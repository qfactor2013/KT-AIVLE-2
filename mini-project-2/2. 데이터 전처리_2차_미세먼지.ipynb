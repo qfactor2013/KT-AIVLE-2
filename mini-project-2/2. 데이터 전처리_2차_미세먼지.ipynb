{
 "cells": [
  {
   "cell_type": "markdown",
   "id": "55add5c1",
   "metadata": {},
   "source": [
    "# 안녕하세요^^ \n",
    "# AIVLE 미니 프로젝트에 오신 여러분을 환영합니다.\n",
    "* 본 과정에서는 실제 사례와 데이터를 기반으로 문제를 해결하는 전체 과정을 자기 주도형 실습으로 진행해볼 예정입니다.\n",
    "* 앞선 교육과정을 정리하는 마음과 지금까지 배운 내용을 바탕으로 문제 해결을 해볼게요!\n",
    "* 미니 프로젝트를 통한 문제 해결 과정 'A에서 Z까지', 지금부터 시작합니다!"
   ]
  },
  {
   "cell_type": "markdown",
   "id": "84008ade",
   "metadata": {},
   "source": [
    "---"
   ]
  },
  {
   "cell_type": "code",
   "execution_count": 243,
   "id": "1cc7de55",
   "metadata": {},
   "outputs": [],
   "source": [
    "# 필요 라이브러리부터 설치할께요.\n",
    "# !pip install pandas seaborn"
   ]
  },
  {
   "cell_type": "markdown",
   "id": "74c09d16",
   "metadata": {},
   "source": [
    "---"
   ]
  },
  {
   "cell_type": "markdown",
   "id": "bright-evolution",
   "metadata": {},
   "source": [
    "# (실습준비) 데이터 불러오기부터"
   ]
  },
  {
   "cell_type": "code",
   "execution_count": 244,
   "id": "innocent-token",
   "metadata": {},
   "outputs": [],
   "source": [
    "import pandas as pd\n",
    "from sklearn.impute import KNNImputer\n",
    "\n",
    "# 학습 데이터 로딩\n",
    "air_21 = pd.read_csv(\"air_2021.csv\", sep=',', index_col = 0, encoding = 'utf-8' )\n",
    "air_22 = pd.read_csv(\"air_2022.csv\", sep=',', index_col = 0, encoding = 'utf-8' )\n",
    "weather_21 = pd.read_csv(\"weather_2021.csv\", sep = ',', encoding='cp949')\n",
    "weather_22 = pd.read_csv(\"weather_2022.csv\", sep = ',', encoding='cp949')"
   ]
  },
  {
   "cell_type": "markdown",
   "id": "polished-myrtle",
   "metadata": {},
   "source": [
    "---"
   ]
  },
  {
   "cell_type": "markdown",
   "id": "palestinian-catalog",
   "metadata": {},
   "source": [
    "# 1. 이상치/결측치 처리"
   ]
  },
  {
   "cell_type": "markdown",
   "id": "sublime-extreme",
   "metadata": {},
   "source": [
    "#### [실습문제1] 미세먼지 데이터 결측치 처리\n",
    "* 미세먼지 데이터의 결측치를 확인하고 결측치가 존재한다면 처리해주세요.\n",
    "\n",
    "\n",
    "* 앞서 데이터 불러오기 및 분석 단계에서 확인한 불필요한 변수에 대해 제거 해 주세요. "
   ]
  },
  {
   "cell_type": "code",
   "execution_count": 245,
   "id": "banner-nitrogen",
   "metadata": {},
   "outputs": [
    {
     "data": {
      "text/html": [
       "<div>\n",
       "<style scoped>\n",
       "    .dataframe tbody tr th:only-of-type {\n",
       "        vertical-align: middle;\n",
       "    }\n",
       "\n",
       "    .dataframe tbody tr th {\n",
       "        vertical-align: top;\n",
       "    }\n",
       "\n",
       "    .dataframe thead th {\n",
       "        text-align: right;\n",
       "    }\n",
       "</style>\n",
       "<table border=\"1\" class=\"dataframe\">\n",
       "  <thead>\n",
       "    <tr style=\"text-align: right;\">\n",
       "      <th></th>\n",
       "      <th>측정일시</th>\n",
       "      <th>SO2</th>\n",
       "      <th>CO</th>\n",
       "      <th>O3</th>\n",
       "      <th>NO2</th>\n",
       "      <th>PM10</th>\n",
       "      <th>PM25</th>\n",
       "    </tr>\n",
       "  </thead>\n",
       "  <tbody>\n",
       "    <tr>\n",
       "      <th>0</th>\n",
       "      <td>2021-10-01 00:00:00</td>\n",
       "      <td>0.003</td>\n",
       "      <td>0.6</td>\n",
       "      <td>0.002</td>\n",
       "      <td>0.039</td>\n",
       "      <td>31.0</td>\n",
       "      <td>18.0</td>\n",
       "    </tr>\n",
       "    <tr>\n",
       "      <th>1</th>\n",
       "      <td>2021-10-01 01:00:00</td>\n",
       "      <td>0.003</td>\n",
       "      <td>0.6</td>\n",
       "      <td>0.002</td>\n",
       "      <td>0.035</td>\n",
       "      <td>27.0</td>\n",
       "      <td>16.0</td>\n",
       "    </tr>\n",
       "    <tr>\n",
       "      <th>2</th>\n",
       "      <td>2021-10-01 02:00:00</td>\n",
       "      <td>0.003</td>\n",
       "      <td>0.6</td>\n",
       "      <td>0.002</td>\n",
       "      <td>0.033</td>\n",
       "      <td>28.0</td>\n",
       "      <td>18.0</td>\n",
       "    </tr>\n",
       "    <tr>\n",
       "      <th>3</th>\n",
       "      <td>2021-10-01 03:00:00</td>\n",
       "      <td>0.003</td>\n",
       "      <td>0.6</td>\n",
       "      <td>0.002</td>\n",
       "      <td>0.030</td>\n",
       "      <td>26.0</td>\n",
       "      <td>16.0</td>\n",
       "    </tr>\n",
       "    <tr>\n",
       "      <th>4</th>\n",
       "      <td>2021-10-01 04:00:00</td>\n",
       "      <td>0.003</td>\n",
       "      <td>0.5</td>\n",
       "      <td>0.003</td>\n",
       "      <td>0.026</td>\n",
       "      <td>26.0</td>\n",
       "      <td>16.0</td>\n",
       "    </tr>\n",
       "  </tbody>\n",
       "</table>\n",
       "</div>"
      ],
      "text/plain": [
       "                 측정일시    SO2   CO     O3    NO2  PM10  PM25\n",
       "0 2021-10-01 00:00:00  0.003  0.6  0.002  0.039  31.0  18.0\n",
       "1 2021-10-01 01:00:00  0.003  0.6  0.002  0.035  27.0  16.0\n",
       "2 2021-10-01 02:00:00  0.003  0.6  0.002  0.033  28.0  18.0\n",
       "3 2021-10-01 03:00:00  0.003  0.6  0.002  0.030  26.0  16.0\n",
       "4 2021-10-01 04:00:00  0.003  0.5  0.003  0.026  26.0  16.0"
      ]
     },
     "execution_count": 245,
     "metadata": {},
     "output_type": "execute_result"
    }
   ],
   "source": [
    "# 아래에 실습코드를 작성하고 결과를 확인합니다.\n",
    "\n",
    "# DateTime으로 변경\n",
    "air_21['측정일시'] = air_21['측정일시'].astype(str)\n",
    "# air_21['측정일시'] = air_21['측정일시'].shift(periods=-1)\n",
    "air_21 = air_21.drop(air_21.shape[0]-1)\n",
    "coverted_time = air_21['측정일시'].str.slice(stop=-2) + air_21['측정일시'].str.slice(start=-2).map(lambda x: str(int(x)-1).zfill(2))\n",
    "air_21['측정일시'] = pd.to_datetime(coverted_time, format='%Y%m%d%H')\n",
    "# air_21['측정일시'] = air_21['측정일시'].astype(str)\n",
    "#column drop \n",
    "air_21 = air_21.drop(['지역', '망', '측정소코드', '측정소명', '주소'], axis=1)\n",
    "air_21.head()"
   ]
  },
  {
   "cell_type": "code",
   "execution_count": 246,
   "id": "bda05a5a-7991-41c0-8171-82e0e2a3a975",
   "metadata": {},
   "outputs": [
    {
     "data": {
      "text/plain": [
       "측정일시    0\n",
       "SO2     0\n",
       "CO      0\n",
       "O3      0\n",
       "NO2     0\n",
       "PM10    0\n",
       "PM25    0\n",
       "dtype: int64"
      ]
     },
     "execution_count": 246,
     "metadata": {},
     "output_type": "execute_result"
    }
   ],
   "source": [
    "# #KNN Imputer로 채움 n_neighbors=5\n",
    "cols = ['SO2', 'CO', 'O3', 'NO2', 'PM10', 'PM25']\n",
    "imputer = KNNImputer(n_neighbors=5)\n",
    "air_21_temp = imputer.fit_transform(air_21[cols])\n",
    "air_21[cols] = pd.DataFrame(air_21_temp, columns=cols)\n",
    "air_21.isna().sum()"
   ]
  },
  {
   "cell_type": "code",
   "execution_count": 247,
   "id": "f85891aa",
   "metadata": {},
   "outputs": [
    {
     "data": {
      "text/html": [
       "<div>\n",
       "<style scoped>\n",
       "    .dataframe tbody tr th:only-of-type {\n",
       "        vertical-align: middle;\n",
       "    }\n",
       "\n",
       "    .dataframe tbody tr th {\n",
       "        vertical-align: top;\n",
       "    }\n",
       "\n",
       "    .dataframe thead th {\n",
       "        text-align: right;\n",
       "    }\n",
       "</style>\n",
       "<table border=\"1\" class=\"dataframe\">\n",
       "  <thead>\n",
       "    <tr style=\"text-align: right;\">\n",
       "      <th></th>\n",
       "      <th>측정일시</th>\n",
       "      <th>SO2</th>\n",
       "      <th>CO</th>\n",
       "      <th>O3</th>\n",
       "      <th>NO2</th>\n",
       "      <th>PM10</th>\n",
       "      <th>PM25</th>\n",
       "    </tr>\n",
       "  </thead>\n",
       "  <tbody>\n",
       "    <tr>\n",
       "      <th>0</th>\n",
       "      <td>2022-01-01 00:00:00</td>\n",
       "      <td>0.003</td>\n",
       "      <td>0.4</td>\n",
       "      <td>0.026</td>\n",
       "      <td>0.016</td>\n",
       "      <td>23.0</td>\n",
       "      <td>12.0</td>\n",
       "    </tr>\n",
       "    <tr>\n",
       "      <th>1</th>\n",
       "      <td>2022-01-01 01:00:00</td>\n",
       "      <td>0.003</td>\n",
       "      <td>0.4</td>\n",
       "      <td>0.022</td>\n",
       "      <td>0.020</td>\n",
       "      <td>20.0</td>\n",
       "      <td>9.0</td>\n",
       "    </tr>\n",
       "    <tr>\n",
       "      <th>2</th>\n",
       "      <td>2022-01-01 02:00:00</td>\n",
       "      <td>0.003</td>\n",
       "      <td>0.5</td>\n",
       "      <td>0.014</td>\n",
       "      <td>0.028</td>\n",
       "      <td>20.0</td>\n",
       "      <td>9.0</td>\n",
       "    </tr>\n",
       "    <tr>\n",
       "      <th>3</th>\n",
       "      <td>2022-01-01 03:00:00</td>\n",
       "      <td>0.003</td>\n",
       "      <td>0.5</td>\n",
       "      <td>0.016</td>\n",
       "      <td>0.027</td>\n",
       "      <td>19.0</td>\n",
       "      <td>10.0</td>\n",
       "    </tr>\n",
       "    <tr>\n",
       "      <th>4</th>\n",
       "      <td>2022-01-01 04:00:00</td>\n",
       "      <td>0.003</td>\n",
       "      <td>0.5</td>\n",
       "      <td>0.005</td>\n",
       "      <td>0.040</td>\n",
       "      <td>24.0</td>\n",
       "      <td>11.0</td>\n",
       "    </tr>\n",
       "  </tbody>\n",
       "</table>\n",
       "</div>"
      ],
      "text/plain": [
       "                 측정일시    SO2   CO     O3    NO2  PM10  PM25\n",
       "0 2022-01-01 00:00:00  0.003  0.4  0.026  0.016  23.0  12.0\n",
       "1 2022-01-01 01:00:00  0.003  0.4  0.022  0.020  20.0   9.0\n",
       "2 2022-01-01 02:00:00  0.003  0.5  0.014  0.028  20.0   9.0\n",
       "3 2022-01-01 03:00:00  0.003  0.5  0.016  0.027  19.0  10.0\n",
       "4 2022-01-01 04:00:00  0.003  0.5  0.005  0.040  24.0  11.0"
      ]
     },
     "execution_count": 247,
     "metadata": {},
     "output_type": "execute_result"
    }
   ],
   "source": [
    "# 아래에 실습코드를 작성하고 결과를 확인합니다.\n",
    "\n",
    "# DateTime으로 변경\n",
    "air_22['측정일시'] = air_22['측정일시'].astype(str)\n",
    "# air_22['측정일시'] = air_22['측정일시'].shift(periods=-1)\n",
    "air_22 = air_22.drop(air_22.shape[0]-1)\n",
    "coverted_time = air_22['측정일시'].str.slice(stop=-2) + air_22['측정일시'].str.slice(start=-2).map(lambda x: str(int(x)-1).zfill(2))\n",
    "air_22['측정일시'] = pd.to_datetime(coverted_time, format='%Y%m%d%H')\n",
    "# air_21['측정일시'] = air_21['측정일시'].astype(str)\n",
    "#column drop \n",
    "air_22 = air_22.drop(['지역', '망', '측정소코드', '측정소명', '주소'], axis=1)\n",
    "air_22.head()"
   ]
  },
  {
   "cell_type": "code",
   "execution_count": 248,
   "id": "c4dd5961-4e30-4354-a55f-0126c22d7dfc",
   "metadata": {},
   "outputs": [
    {
     "data": {
      "text/plain": [
       "측정일시    0\n",
       "SO2     0\n",
       "CO      0\n",
       "O3      0\n",
       "NO2     0\n",
       "PM10    0\n",
       "PM25    0\n",
       "dtype: int64"
      ]
     },
     "execution_count": 248,
     "metadata": {},
     "output_type": "execute_result"
    }
   ],
   "source": [
    "# #KNN Imputer로 채움 n_neighbors=5\n",
    "cols = ['SO2', 'CO', 'O3', 'NO2', 'PM10', 'PM25']\n",
    "imputer = KNNImputer(n_neighbors=5)\n",
    "air_22_temp = imputer.fit_transform(air_22[cols])\n",
    "air_22[cols] = pd.DataFrame(air_22_temp, columns=cols)\n",
    "air_22.isna().sum()"
   ]
  },
  {
   "cell_type": "markdown",
   "id": "89892756",
   "metadata": {},
   "source": [
    "#### [실습문제2] 날씨 데이터 결측치 처리\n",
    "* 날씨 데이터의 결측치를 확인하고 결측치가 존재한다면 처리해주세요.\n",
    "\n",
    "* '강우량'을 어떻게 해야할까요?"
   ]
  },
  {
   "cell_type": "code",
   "execution_count": 249,
   "id": "3553fb5f",
   "metadata": {},
   "outputs": [
    {
     "data": {
      "text/plain": [
       "지점                  0\n",
       "지점명                 0\n",
       "일시                  0\n",
       "기온(°C)              0\n",
       "기온 QC플래그         8759\n",
       "강수량(mm)          7810\n",
       "강수량 QC플래그        6996\n",
       "풍속(m/s)             2\n",
       "풍속 QC플래그         8757\n",
       "풍향(16방위)            2\n",
       "풍향 QC플래그         8757\n",
       "습도(%)               0\n",
       "습도 QC플래그         8759\n",
       "증기압(hPa)            0\n",
       "이슬점온도(°C)           0\n",
       "현지기압(hPa)           0\n",
       "현지기압 QC플래그       8759\n",
       "해면기압(hPa)           0\n",
       "해면기압 QC플래그       8759\n",
       "일조(hr)           3968\n",
       "일조 QC플래그         4791\n",
       "일사(MJ/m2)        3968\n",
       "일사 QC플래그         4791\n",
       "적설(cm)           8380\n",
       "3시간신적설(cm)       8730\n",
       "전운량(10분위)           2\n",
       "중하층운량(10분위)         0\n",
       "운형(운형약어)         3812\n",
       "최저운고(100m )      4212\n",
       "시정(10m)             0\n",
       "지면상태(지면상태코드)     8759\n",
       "현상번호(국내식)        6634\n",
       "지면온도(°C)            5\n",
       "지면온도 QC플래그       8735\n",
       "5cm 지중온도(°C)        5\n",
       "10cm 지중온도(°C)       5\n",
       "20cm 지중온도(°C)       5\n",
       "30cm 지중온도(°C)       5\n",
       "dtype: int64"
      ]
     },
     "execution_count": 249,
     "metadata": {},
     "output_type": "execute_result"
    }
   ],
   "source": [
    "# 아래에 실습코드를 작성하고 결과를 확인합니다.\n",
    "weather_21.isna().sum()"
   ]
  },
  {
   "cell_type": "code",
   "execution_count": 250,
   "id": "2ae7d011-796a-4a0d-b6f9-1807cddb7722",
   "metadata": {},
   "outputs": [],
   "source": [
    "qc_cols = ['기온 QC플래그', '강수량 QC플래그', '풍속 QC플래그', '풍향 QC플래그', '습도 QC플래그', \n",
    "           '현지기압 QC플래그', '해면기압 QC플래그', '일조 QC플래그', '일사 QC플래그', \n",
    "           '지면온도 QC플래그']\n",
    "\n",
    "weather_21 = weather_21.drop(qc_cols, axis=1)\n",
    "weather_21 = weather_21.drop(['지점', '지점명'], axis=1)\n",
    "weather_21 = weather_21.drop(['지면상태(지면상태코드)'], axis=1)\n",
    "weather_21 = weather_21.drop(['현상번호(국내식)'], axis=1)"
   ]
  },
  {
   "cell_type": "code",
   "execution_count": 251,
   "id": "f1ba7983-88fe-46fb-bdb8-d75bd3fe4b89",
   "metadata": {},
   "outputs": [],
   "source": [
    "# 0으로 채움\n",
    "weather_21['적설(cm)'] = weather_21['적설(cm)'].fillna(0)\n",
    "weather_21['3시간신적설(cm)'] = weather_21['3시간신적설(cm)'].fillna(0)\n",
    "weather_21['일조(hr)'] = weather_21['적설(cm)'].fillna(0)\n",
    "weather_21['일사(MJ/m2)'] = weather_21['3시간신적설(cm)'].fillna(0)\n",
    "weather_21['운형(운형약어)'] = weather_21['운형(운형약어)'].fillna('empty')\n",
    "weather_21['최저운고(100m )'] = weather_21['최저운고(100m )'].fillna(0)\n",
    "weather_21['전운량(10분위)'] = weather_21['최저운고(100m )'].fillna(0)\n",
    "weather_21['강수량(mm)'] = weather_21['강수량(mm)'].fillna(0)"
   ]
  },
  {
   "cell_type": "code",
   "execution_count": 252,
   "id": "79fcc473-8cd3-4e1e-9ddf-3fafffc4809b",
   "metadata": {},
   "outputs": [
    {
     "data": {
      "text/plain": [
       "일시               0\n",
       "기온(°C)           0\n",
       "강수량(mm)          0\n",
       "풍속(m/s)          2\n",
       "풍향(16방위)         2\n",
       "습도(%)            0\n",
       "증기압(hPa)         0\n",
       "이슬점온도(°C)        0\n",
       "현지기압(hPa)        0\n",
       "해면기압(hPa)        0\n",
       "일조(hr)           0\n",
       "일사(MJ/m2)        0\n",
       "적설(cm)           0\n",
       "3시간신적설(cm)       0\n",
       "전운량(10분위)        0\n",
       "중하층운량(10분위)      0\n",
       "운형(운형약어)         0\n",
       "최저운고(100m )      0\n",
       "시정(10m)          0\n",
       "지면온도(°C)         5\n",
       "5cm 지중온도(°C)     5\n",
       "10cm 지중온도(°C)    5\n",
       "20cm 지중온도(°C)    5\n",
       "30cm 지중온도(°C)    5\n",
       "dtype: int64"
      ]
     },
     "execution_count": 252,
     "metadata": {},
     "output_type": "execute_result"
    }
   ],
   "source": [
    "weather_21.isna().sum()"
   ]
  },
  {
   "cell_type": "code",
   "execution_count": 253,
   "id": "17e13920-e80a-43a5-8aaa-cec713643954",
   "metadata": {},
   "outputs": [
    {
     "data": {
      "text/plain": [
       "일시               0\n",
       "기온(°C)           0\n",
       "강수량(mm)          0\n",
       "풍속(m/s)          0\n",
       "풍향(16방위)         0\n",
       "습도(%)            0\n",
       "증기압(hPa)         0\n",
       "이슬점온도(°C)        0\n",
       "현지기압(hPa)        0\n",
       "해면기압(hPa)        0\n",
       "일조(hr)           0\n",
       "일사(MJ/m2)        0\n",
       "적설(cm)           0\n",
       "3시간신적설(cm)       0\n",
       "전운량(10분위)        0\n",
       "중하층운량(10분위)      0\n",
       "운형(운형약어)         0\n",
       "최저운고(100m )      0\n",
       "시정(10m)          0\n",
       "지면온도(°C)         0\n",
       "5cm 지중온도(°C)     0\n",
       "10cm 지중온도(°C)    0\n",
       "20cm 지중온도(°C)    0\n",
       "30cm 지중온도(°C)    0\n",
       "dtype: int64"
      ]
     },
     "execution_count": 253,
     "metadata": {},
     "output_type": "execute_result"
    }
   ],
   "source": [
    "# #KNN Imputer로 채움 n_neighbors=5\n",
    "cols = ['풍속(m/s)','풍향(16방위)', '지면온도(°C)', '5cm 지중온도(°C)', '10cm 지중온도(°C)', '20cm 지중온도(°C)', '30cm 지중온도(°C)']\n",
    "imputer = KNNImputer(n_neighbors=5)\n",
    "weather_21_temp = imputer.fit_transform(weather_21[cols])\n",
    "weather_21[cols] = pd.DataFrame(weather_21_temp, columns=cols)\n",
    "weather_21.isna().sum()"
   ]
  },
  {
   "cell_type": "code",
   "execution_count": 254,
   "id": "3a0c769a-7554-4a4b-b092-c655019158c7",
   "metadata": {},
   "outputs": [
    {
     "data": {
      "text/plain": [
       "지점                  0\n",
       "지점명                 0\n",
       "일시                  0\n",
       "기온(°C)              0\n",
       "기온 QC플래그         2160\n",
       "강수량(mm)          2079\n",
       "강수량 QC플래그        1778\n",
       "풍속(m/s)             0\n",
       "풍속 QC플래그         2160\n",
       "풍향(16방위)            0\n",
       "풍향 QC플래그         2160\n",
       "습도(%)               0\n",
       "습도 QC플래그         2160\n",
       "증기압(hPa)            0\n",
       "이슬점온도(°C)           0\n",
       "현지기압(hPa)           0\n",
       "현지기압 QC플래그       2160\n",
       "해면기압(hPa)           0\n",
       "해면기압 QC플래그       2160\n",
       "일조(hr)           1089\n",
       "일조 QC플래그         1071\n",
       "일사(MJ/m2)        1089\n",
       "일사 QC플래그         1071\n",
       "적설(cm)           2020\n",
       "3시간신적설(cm)       2145\n",
       "전운량(10분위)           0\n",
       "중하층운량(10분위)         0\n",
       "운형(운형약어)         1221\n",
       "최저운고(100m )      1417\n",
       "시정(10m)             0\n",
       "지면상태(지면상태코드)     2160\n",
       "현상번호(국내식)        1742\n",
       "지면온도(°C)            0\n",
       "지면온도 QC플래그       2153\n",
       "5cm 지중온도(°C)        0\n",
       "10cm 지중온도(°C)       0\n",
       "20cm 지중온도(°C)       0\n",
       "30cm 지중온도(°C)       0\n",
       "dtype: int64"
      ]
     },
     "execution_count": 254,
     "metadata": {},
     "output_type": "execute_result"
    }
   ],
   "source": [
    "# 아래에 실습코드를 작성하고 결과를 확인합니다.\n",
    "weather_22.isna().sum()"
   ]
  },
  {
   "cell_type": "code",
   "execution_count": 255,
   "id": "3d1c5341-012d-4180-b133-325ea99a5a30",
   "metadata": {},
   "outputs": [],
   "source": [
    "qc_cols = ['기온 QC플래그', '강수량 QC플래그', '풍속 QC플래그', '풍향 QC플래그', '습도 QC플래그', \n",
    "           '현지기압 QC플래그', '해면기압 QC플래그', '일조 QC플래그', '일사 QC플래그', \n",
    "           '지면온도 QC플래그']\n",
    "\n",
    "weather_22 = weather_22.drop(qc_cols, axis=1)\n",
    "weather_22 = weather_22.drop(['지점', '지점명'], axis=1)\n",
    "weather_22 = weather_22.drop(['지면상태(지면상태코드)'], axis=1)\n",
    "weather_22 = weather_22.drop(['현상번호(국내식)'], axis=1)"
   ]
  },
  {
   "cell_type": "code",
   "execution_count": 256,
   "id": "c1710507-6e37-4c4a-88e9-c80c8d7b5a36",
   "metadata": {},
   "outputs": [],
   "source": [
    "# 0으로 채움\n",
    "weather_22['적설(cm)'] = weather_22['적설(cm)'].fillna(0)\n",
    "weather_22['3시간신적설(cm)'] = weather_22['3시간신적설(cm)'].fillna(0)\n",
    "weather_22['일조(hr)'] = weather_22['적설(cm)'].fillna(0)\n",
    "weather_22['일사(MJ/m2)'] = weather_22['3시간신적설(cm)'].fillna(0)\n",
    "weather_22['운형(운형약어)'] = weather_22['운형(운형약어)'].fillna('empty')\n",
    "weather_22['최저운고(100m )'] = weather_22['최저운고(100m )'].fillna(0)\n",
    "weather_22['전운량(10분위)'] = weather_22['최저운고(100m )'].fillna(0)\n",
    "weather_22['강수량(mm)'] = weather_22['강수량(mm)'].fillna(0)"
   ]
  },
  {
   "cell_type": "code",
   "execution_count": 257,
   "id": "fee4166a-fc48-41e0-a25b-699dfa8b21d5",
   "metadata": {},
   "outputs": [
    {
     "data": {
      "text/plain": [
       "일시               0\n",
       "기온(°C)           0\n",
       "강수량(mm)          0\n",
       "풍속(m/s)          0\n",
       "풍향(16방위)         0\n",
       "습도(%)            0\n",
       "증기압(hPa)         0\n",
       "이슬점온도(°C)        0\n",
       "현지기압(hPa)        0\n",
       "해면기압(hPa)        0\n",
       "일조(hr)           0\n",
       "일사(MJ/m2)        0\n",
       "적설(cm)           0\n",
       "3시간신적설(cm)       0\n",
       "전운량(10분위)        0\n",
       "중하층운량(10분위)      0\n",
       "운형(운형약어)         0\n",
       "최저운고(100m )      0\n",
       "시정(10m)          0\n",
       "지면온도(°C)         0\n",
       "5cm 지중온도(°C)     0\n",
       "10cm 지중온도(°C)    0\n",
       "20cm 지중온도(°C)    0\n",
       "30cm 지중온도(°C)    0\n",
       "dtype: int64"
      ]
     },
     "execution_count": 257,
     "metadata": {},
     "output_type": "execute_result"
    }
   ],
   "source": [
    "weather_22.isna().sum()"
   ]
  },
  {
   "cell_type": "code",
   "execution_count": 258,
   "id": "3f98395f-e38f-44a4-bff7-bbcf6354dc72",
   "metadata": {},
   "outputs": [],
   "source": [
    "# #KNN Imputer로 채움 n_neighbors=5\n",
    "cols = ['풍속(m/s)','풍향(16방위)', '지면온도(°C)', '5cm 지중온도(°C)', '10cm 지중온도(°C)', '20cm 지중온도(°C)', '30cm 지중온도(°C)']\n",
    "imputer = KNNImputer(n_neighbors=5)\n",
    "weather_22_temp = imputer.fit_transform(weather_22[cols])\n",
    "weather_22[cols] = pd.DataFrame(weather_22_temp, columns=cols)"
   ]
  },
  {
   "cell_type": "code",
   "execution_count": 259,
   "id": "a8a4b5dd-6796-4bf2-abbe-83b1b5e7a36b",
   "metadata": {},
   "outputs": [
    {
     "data": {
      "text/plain": [
       "일시               0\n",
       "기온(°C)           0\n",
       "강수량(mm)          0\n",
       "풍속(m/s)          0\n",
       "풍향(16방위)         0\n",
       "습도(%)            0\n",
       "증기압(hPa)         0\n",
       "이슬점온도(°C)        0\n",
       "현지기압(hPa)        0\n",
       "해면기압(hPa)        0\n",
       "일조(hr)           0\n",
       "일사(MJ/m2)        0\n",
       "적설(cm)           0\n",
       "3시간신적설(cm)       0\n",
       "전운량(10분위)        0\n",
       "중하층운량(10분위)      0\n",
       "운형(운형약어)         0\n",
       "최저운고(100m )      0\n",
       "시정(10m)          0\n",
       "지면온도(°C)         0\n",
       "5cm 지중온도(°C)     0\n",
       "10cm 지중온도(°C)    0\n",
       "20cm 지중온도(°C)    0\n",
       "30cm 지중온도(°C)    0\n",
       "dtype: int64"
      ]
     },
     "execution_count": 259,
     "metadata": {},
     "output_type": "execute_result"
    }
   ],
   "source": [
    "weather_22.isna().sum()"
   ]
  },
  {
   "cell_type": "markdown",
   "id": "c260e7e5",
   "metadata": {},
   "source": [
    "#### [실습문제3] air_21, air_22 의 '측정일시'를 활용하여 'time'변수 생성하기\n",
    "\n",
    "\n",
    "* air_21, air_22 의 '측정일시'를 활용하여 'time'변수 생성\n",
    "\n",
    "\n",
    "* time 변수를 datatime으로 데이터 타입 변경하기"
   ]
  },
  {
   "cell_type": "code",
   "execution_count": 260,
   "id": "bd11dbae",
   "metadata": {},
   "outputs": [],
   "source": [
    "# 아래에 실습코드를 작성하고 결과를 확인합니다.\n",
    "#이미 위에서 변경함 코드 기술\n",
    "# DateTime으로 변경\n",
    "# air_21['측정일시'] = air_21['측정일시'].astype(str)\n",
    "# air_21['측정일시'] = air_21['측정일시'].shift(periods=-1)\n",
    "# air_21 = air_21.drop(air_21.shape[0]-1)\n",
    "# coverted_time = air_21['측정일시'].str.slice(stop=-2) + air_21['측정일시'].str.slice(start=-2).map(lambda x: str(int(x)-1).zfill(2))\n",
    "# air_21['측정일시'] = pd.to_datetime(coverted_time, format='%Y%m%d%H')\n"
   ]
  },
  {
   "cell_type": "markdown",
   "id": "romantic-johnson",
   "metadata": {},
   "source": [
    "#### [실습문제4] weather_21, weather_22 의 '일시'를 활용하여 'time'변수 생성하기\n",
    "\n",
    "\n",
    "* weather_21, weather_22 의 '측정일시'를 활용하여 'time'변수 생성\n",
    "\n",
    "\n",
    "* time 변수를 datatime으로 데이터 타입 변경하기"
   ]
  },
  {
   "cell_type": "code",
   "execution_count": 261,
   "id": "8ee1bae8",
   "metadata": {},
   "outputs": [
    {
     "data": {
      "text/plain": [
       "0   2021-01-01 01:00:00\n",
       "1   2021-01-01 02:00:00\n",
       "2   2021-01-01 03:00:00\n",
       "3   2021-01-01 04:00:00\n",
       "4   2021-01-01 05:00:00\n",
       "Name: 일시, dtype: datetime64[ns]"
      ]
     },
     "execution_count": 261,
     "metadata": {},
     "output_type": "execute_result"
    }
   ],
   "source": [
    "# 아래에 실습코드를 작성하고 결과를 확인합니다.\n",
    "weather_21['일시'] = pd.to_datetime(weather_21['일시'], format='%Y%m%d %H:%M')\n",
    "weather_21['일시'].head()\n",
    "\n"
   ]
  },
  {
   "cell_type": "code",
   "execution_count": 262,
   "id": "7d6bd28e-a296-4e1e-b9a9-12321035ea10",
   "metadata": {},
   "outputs": [
    {
     "data": {
      "text/plain": [
       "0   2022-01-01 00:00:00\n",
       "1   2022-01-01 01:00:00\n",
       "2   2022-01-01 02:00:00\n",
       "3   2022-01-01 03:00:00\n",
       "4   2022-01-01 04:00:00\n",
       "Name: 일시, dtype: datetime64[ns]"
      ]
     },
     "execution_count": 262,
     "metadata": {},
     "output_type": "execute_result"
    }
   ],
   "source": [
    "weather_22['일시'] = pd.to_datetime(weather_22['일시'], format='%Y%m%d %H:%M')\n",
    "weather_22['일시'].head()"
   ]
  },
  {
   "cell_type": "markdown",
   "id": "ef9eb7b0",
   "metadata": {},
   "source": [
    "---"
   ]
  },
  {
   "cell_type": "markdown",
   "id": "lyric-response",
   "metadata": {},
   "source": [
    "# 2. 데이터 합치기\n",
    "* 미세먼지 데이터와 날씨 데이터를 'time' 기준으로 합쳐보겠습니다"
   ]
  },
  {
   "cell_type": "markdown",
   "id": "coated-framework",
   "metadata": {},
   "source": [
    "#### [실습문제5] 데이터 합치기\n",
    "* 'df_21','df_22'에 21년도와 22년도의 미세먼지, 날씨 데이터를 합쳐 넣도록 하겠습니다."
   ]
  },
  {
   "cell_type": "code",
   "execution_count": 271,
   "id": "8e77f9fa",
   "metadata": {},
   "outputs": [],
   "source": [
    "# 아래에 실습코드를 작성하고 결과를 확인합니다\n",
    "air_21['일시'] = air_21['측정일시']\n",
    "air_21.drop('측정일시', axis=1)\n",
    "df_21 = pd.merge(left=air_21, right=weather_21, how='left', on='일시')\n"
   ]
  },
  {
   "cell_type": "code",
   "execution_count": 272,
   "id": "6afb0f0f-f8b2-4f40-add2-c21fe347bbdc",
   "metadata": {},
   "outputs": [
    {
     "data": {
      "text/plain": [
       "(8759, 31)"
      ]
     },
     "execution_count": 272,
     "metadata": {},
     "output_type": "execute_result"
    }
   ],
   "source": [
    "df_21.shape"
   ]
  },
  {
   "cell_type": "code",
   "execution_count": 281,
   "id": "35c67ef1-46cf-48ad-b325-44c84f78b4e5",
   "metadata": {},
   "outputs": [
    {
     "data": {
      "text/plain": [
       "측정일시             False\n",
       "SO2              False\n",
       "CO               False\n",
       "O3               False\n",
       "NO2              False\n",
       "PM10             False\n",
       "PM25             False\n",
       "일시               False\n",
       "기온(°C)           False\n",
       "강수량(mm)          False\n",
       "풍속(m/s)          False\n",
       "풍향(16방위)         False\n",
       "습도(%)            False\n",
       "증기압(hPa)         False\n",
       "이슬점온도(°C)        False\n",
       "현지기압(hPa)        False\n",
       "해면기압(hPa)        False\n",
       "일조(hr)           False\n",
       "일사(MJ/m2)        False\n",
       "적설(cm)           False\n",
       "3시간신적설(cm)       False\n",
       "전운량(10분위)        False\n",
       "중하층운량(10분위)      False\n",
       "운형(운형약어)         False\n",
       "최저운고(100m )      False\n",
       "시정(10m)          False\n",
       "지면온도(°C)         False\n",
       "5cm 지중온도(°C)     False\n",
       "10cm 지중온도(°C)    False\n",
       "20cm 지중온도(°C)    False\n",
       "30cm 지중온도(°C)    False\n",
       "dtype: bool"
      ]
     },
     "execution_count": 281,
     "metadata": {},
     "output_type": "execute_result"
    }
   ],
   "source": [
    "df_21.isna()."
   ]
  },
  {
   "cell_type": "code",
   "execution_count": 265,
   "id": "e9cb4575-6a23-4796-95fc-94adb1cc701c",
   "metadata": {},
   "outputs": [],
   "source": [
    "air_22['일시'] = air_22['측정일시']\n",
    "air_22.drop('측정일시', axis=1)\n",
    "df_22 = pd.merge(left=air_22, right=weather_22, how='inner', on='일시')"
   ]
  },
  {
   "cell_type": "code",
   "execution_count": 269,
   "id": "da85d193-9cad-4432-a506-d3603cae7821",
   "metadata": {},
   "outputs": [
    {
     "data": {
      "text/plain": [
       "측정일시             0\n",
       "SO2              0\n",
       "CO               0\n",
       "O3               0\n",
       "NO2              0\n",
       "PM10             0\n",
       "PM25             0\n",
       "일시               0\n",
       "기온(°C)           1\n",
       "강수량(mm)          1\n",
       "풍속(m/s)          1\n",
       "풍향(16방위)         1\n",
       "습도(%)            1\n",
       "증기압(hPa)         1\n",
       "이슬점온도(°C)        1\n",
       "현지기압(hPa)        1\n",
       "해면기압(hPa)        1\n",
       "일조(hr)           1\n",
       "일사(MJ/m2)        1\n",
       "적설(cm)           1\n",
       "3시간신적설(cm)       1\n",
       "전운량(10분위)        1\n",
       "중하층운량(10분위)      1\n",
       "운형(운형약어)         1\n",
       "최저운고(100m )      1\n",
       "시정(10m)          1\n",
       "지면온도(°C)         1\n",
       "5cm 지중온도(°C)     1\n",
       "10cm 지중온도(°C)    1\n",
       "20cm 지중온도(°C)    1\n",
       "30cm 지중온도(°C)    1\n",
       "dtype: int64"
      ]
     },
     "execution_count": 269,
     "metadata": {},
     "output_type": "execute_result"
    }
   ],
   "source": [
    "df_21.isna().sum()"
   ]
  },
  {
   "cell_type": "markdown",
   "id": "8a3e52e4",
   "metadata": {},
   "source": [
    "#### [실습문제7] 미세먼지 농도 다음시점 데이터 생성\n",
    "\n",
    "* t+1 시점 데이터 생성"
   ]
  },
  {
   "cell_type": "code",
   "execution_count": null,
   "id": "dd038675",
   "metadata": {},
   "outputs": [],
   "source": [
    "# 아래에 실습코드를 작성하고 결과를 확인합니다\n",
    "\n",
    "\n"
   ]
  },
  {
   "cell_type": "code",
   "execution_count": null,
   "id": "d5ceccfc",
   "metadata": {},
   "outputs": [],
   "source": [
    "# 아래에 실습코드를 작성하고 결과를 확인합니다\n",
    "\n"
   ]
  },
  {
   "cell_type": "code",
   "execution_count": null,
   "id": "e3bd1706",
   "metadata": {},
   "outputs": [],
   "source": [
    "\n"
   ]
  },
  {
   "cell_type": "code",
   "execution_count": null,
   "id": "a909daf5",
   "metadata": {},
   "outputs": [],
   "source": [
    "\n"
   ]
  },
  {
   "cell_type": "markdown",
   "id": "87ba4c43",
   "metadata": {},
   "source": [
    "#### [실습문제7] 미세먼지 농도 다음시점 데이터 생성\n",
    "\n",
    "* t+1 시점 데이터 생성"
   ]
  },
  {
   "cell_type": "code",
   "execution_count": null,
   "id": "b5003c89",
   "metadata": {},
   "outputs": [],
   "source": [
    "# 아래에 실습코드를 작성하고 결과를 확인합니다\n",
    "\n"
   ]
  },
  {
   "cell_type": "markdown",
   "id": "27c6c592",
   "metadata": {},
   "source": [
    "---"
   ]
  },
  {
   "cell_type": "markdown",
   "id": "accepting-creativity",
   "metadata": {},
   "source": [
    "# 3. train / test split"
   ]
  },
  {
   "cell_type": "markdown",
   "id": "dependent-motion",
   "metadata": {},
   "source": [
    "#### [실습문제7] 데이터셋 나누기 \n",
    "\n",
    "* 데이터셋을 train(21년도 데이터), test(22년도 데이터)로 나눠 csv로 저장하도록 하겠습니다.\n",
    "\n",
    "\n",
    "* train_x / train_y / test_x / test_y 로 나누세요.\n",
    "\n",
    "\n",
    "* train_x.csv / train_y.csv / test_x.csv / test_y.csv 로 저장하세요."
   ]
  },
  {
   "cell_type": "code",
   "execution_count": null,
   "id": "92652b6b",
   "metadata": {},
   "outputs": [],
   "source": [
    "# 아래에 실습코드를 작성하고 결과를 확인합니다.\n",
    "\n"
   ]
  },
  {
   "cell_type": "code",
   "execution_count": null,
   "id": "db809b0e",
   "metadata": {},
   "outputs": [],
   "source": [
    "# 아래에 실습코드를 작성하고 결과를 확인합니다.\n",
    "\n"
   ]
  },
  {
   "cell_type": "markdown",
   "id": "dramatic-meditation",
   "metadata": {},
   "source": [
    "---"
   ]
  }
 ],
 "metadata": {
  "kernelspec": {
   "display_name": "Python 3",
   "language": "python",
   "name": "python3"
  },
  "language_info": {
   "codemirror_mode": {
    "name": "ipython",
    "version": 3
   },
   "file_extension": ".py",
   "mimetype": "text/x-python",
   "name": "python",
   "nbconvert_exporter": "python",
   "pygments_lexer": "ipython3",
   "version": "3.8.8"
  },
  "vscode": {
   "interpreter": {
    "hash": "f08154012ddadd8e950e6e9e035c7a7b32c136e7647e9b7c77e02eb723a8bedb"
   }
  }
 },
 "nbformat": 4,
 "nbformat_minor": 5
}
