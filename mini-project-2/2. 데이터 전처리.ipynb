{
 "cells": [
  {
   "cell_type": "markdown",
   "metadata": {},
   "source": [
    "## [미니프로젝트] 악성사이트 탐지 머신러닝 모델 개발\n",
    "\n",
    "## <b>[2단계] 데이터 분석 및 전처리\n",
    "\n",
    "## ▣ 데이터 소개\n",
    "* 학습 데이터셋 : train_dataset.csv\n",
    "<br>\n",
    "\n",
    "## ▣ 학습 데이터셋의 변수 소개\n",
    "\n",
    "* url_len : URL 길이\n",
    "* url_num_hypens_dom : URL내 '-'(하이픈) 개수\n",
    "* url_path_len : URL의 경로 길이\n",
    "* url_domain_len : URL의 도메인 길이\n",
    "* url_host_name : URL의 hostname 길이\n",
    "* url_num_dots : URL내 '.'(닷) 개수\n",
    "* url_num_underscores : URL내 '_'(언더바) 개수\n",
    "* url_query_len : URL쿼리 길이\n",
    "* url_num_query_para : URL쿼리의 파라미터 개수\n",
    "* url_ip_present : URL내 IP표시 여부\n",
    "* url_entropy : URL 복잡도\n",
    "* url_chinese_present : URL내 중국어 표기 여부\n",
    "* url_port : URL내 포트 표기 여부\n",
    "* html_num_tags('iframe') : HTML내 'iframe' 태그 개수\n",
    "* html_num_tags('script') : HTML내 'script' 태그 개수\n",
    "* html_num_tags('embed') : HTML내 'embed' 태그 개수\n",
    "* html_num_tags('object') : HTML내 'object' 태그 개수\n",
    "* html_num_tags('div') : HTML내 'div' 태그 개수\n",
    "* html_num_tags('head') : HTML내 'head' 태그 개수\n",
    "* html_num_tags('body') : HTML내 'body' 태그 개수\n",
    "* html_num_tags('form') : HTML내 'form' 태그 개수\n",
    "* html_num_tags('a') : HTML내 'a' 태그 개수\n",
    "* html_num_tags('applet') : HTML내 'applet' 태그 개수\n",
    "* Result_v1 : 악성사이트 여부 컬럼 ( 'malicious'는 악성사이트, 'benign'은 정상사이트 )\n",
    "\n",
    "<br>\n",
    "\n",
    "---\n",
    "\n",
    "### **[프로세스]**\n",
    "0. 라이브러리 import 및 데이터 불러오기\n",
    "1. 데이터 분석하기\n",
    "2. 데이터 전처리하기\n",
    "\n",
    "\n",
    "---"
   ]
  },
  {
   "cell_type": "markdown",
   "metadata": {},
   "source": [
    "# <b>Step 0. 라이브러리 import 및 데이터 불러오기\n",
    "### **가. 라이브러리 import**"
   ]
  },
  {
   "cell_type": "code",
   "execution_count": 1,
   "metadata": {},
   "outputs": [
    {
     "name": "stderr",
     "output_type": "stream",
     "text": [
      "C:\\Users\\User\\anaconda3\\lib\\site-packages\\statsmodels\\tsa\\base\\tsa_model.py:7: FutureWarning: pandas.Int64Index is deprecated and will be removed from pandas in a future version. Use pandas.Index with the appropriate dtype instead.\n",
      "  from pandas import (to_datetime, Int64Index, DatetimeIndex, Period,\n",
      "C:\\Users\\User\\anaconda3\\lib\\site-packages\\statsmodels\\tsa\\base\\tsa_model.py:7: FutureWarning: pandas.Float64Index is deprecated and will be removed from pandas in a future version. Use pandas.Index with the appropriate dtype instead.\n",
      "  from pandas import (to_datetime, Int64Index, DatetimeIndex, Period,\n"
     ]
    }
   ],
   "source": [
    "import pandas as pd\n",
    "import numpy as np\n",
    "import matplotlib.pyplot as plt\n",
    "import seaborn as sns\n",
    "\n",
    "import scipy.stats as spst\n",
    "import statsmodels.api as sm\n",
    "from statsmodels.graphics.tsaplots import plot_acf, plot_pacf\n",
    "\n",
    "from sklearn.metrics import *\n",
    "from sklearn.model_selection import train_test_split\n",
    "\n",
    "from sklearn.preprocessing import MinMaxScaler\n",
    "\n",
    "# 모델링\n",
    "from sklearn.linear_model import LinearRegression, LogisticRegression\n",
    "from sklearn.neighbors import KNeighborsRegressor, KNeighborsClassifier\n",
    "from sklearn.tree import DecisionTreeClassifier\n",
    "from sklearn.svm import SVC\n",
    "from xgboost import XGBClassifier, plot_tree\n",
    "from sklearn.ensemble import RandomForestClassifier \n",
    "from sklearn.model_selection import RandomizedSearchCV, GridSearchCV\n",
    "\n",
    "import warnings\n",
    "from statsmodels.tools.sm_exceptions import ConvergenceWarning\n",
    "warnings.filterwarnings(action='ignore')\n",
    "warnings.simplefilter('ignore', ConvergenceWarning)"
   ]
  },
  {
   "cell_type": "markdown",
   "metadata": {},
   "source": [
    "### **나.  학습데이터 불러오기**"
   ]
  },
  {
   "cell_type": "code",
   "execution_count": 2,
   "metadata": {},
   "outputs": [
    {
     "data": {
      "text/html": [
       "<div>\n",
       "<style scoped>\n",
       "    .dataframe tbody tr th:only-of-type {\n",
       "        vertical-align: middle;\n",
       "    }\n",
       "\n",
       "    .dataframe tbody tr th {\n",
       "        vertical-align: top;\n",
       "    }\n",
       "\n",
       "    .dataframe thead th {\n",
       "        text-align: right;\n",
       "    }\n",
       "</style>\n",
       "<table border=\"1\" class=\"dataframe\">\n",
       "  <thead>\n",
       "    <tr style=\"text-align: right;\">\n",
       "      <th></th>\n",
       "      <th>Unnamed: 0</th>\n",
       "      <th>url_len</th>\n",
       "      <th>url_num_hyphens_dom</th>\n",
       "      <th>url_path_len</th>\n",
       "      <th>url_domain_len</th>\n",
       "      <th>url_hostname_len</th>\n",
       "      <th>url_num_dots</th>\n",
       "      <th>url_num_underscores</th>\n",
       "      <th>url_query_len</th>\n",
       "      <th>url_num_query_para</th>\n",
       "      <th>...</th>\n",
       "      <th>html_num_tags('script')</th>\n",
       "      <th>html_num_tags('embed')</th>\n",
       "      <th>html_num_tags('object')</th>\n",
       "      <th>html_num_tags('div')</th>\n",
       "      <th>html_num_tags('head')</th>\n",
       "      <th>html_num_tags('body')</th>\n",
       "      <th>html_num_tags('form')</th>\n",
       "      <th>html_num_tags('a')</th>\n",
       "      <th>html_num_tags('applet')</th>\n",
       "      <th>Result_v1</th>\n",
       "    </tr>\n",
       "  </thead>\n",
       "  <tbody>\n",
       "    <tr>\n",
       "      <th>0</th>\n",
       "      <td>0</td>\n",
       "      <td>23.0</td>\n",
       "      <td>0.0</td>\n",
       "      <td>8.0</td>\n",
       "      <td>15.0</td>\n",
       "      <td>15.0</td>\n",
       "      <td>2.0</td>\n",
       "      <td>0.0</td>\n",
       "      <td>0.0</td>\n",
       "      <td>0.0</td>\n",
       "      <td>...</td>\n",
       "      <td>7.0</td>\n",
       "      <td>0.0</td>\n",
       "      <td>0.0</td>\n",
       "      <td>0.0</td>\n",
       "      <td>1.0</td>\n",
       "      <td>1.0</td>\n",
       "      <td>0.0</td>\n",
       "      <td>0.0</td>\n",
       "      <td>0.0</td>\n",
       "      <td>malicious</td>\n",
       "    </tr>\n",
       "    <tr>\n",
       "      <th>1</th>\n",
       "      <td>1</td>\n",
       "      <td>75.0</td>\n",
       "      <td>0.0</td>\n",
       "      <td>58.0</td>\n",
       "      <td>17.0</td>\n",
       "      <td>17.0</td>\n",
       "      <td>6.0</td>\n",
       "      <td>0.0</td>\n",
       "      <td>0.0</td>\n",
       "      <td>0.0</td>\n",
       "      <td>...</td>\n",
       "      <td>18.0</td>\n",
       "      <td>0.0</td>\n",
       "      <td>0.0</td>\n",
       "      <td>20.0</td>\n",
       "      <td>1.0</td>\n",
       "      <td>1.0</td>\n",
       "      <td>0.0</td>\n",
       "      <td>21.0</td>\n",
       "      <td>0.0</td>\n",
       "      <td>benign</td>\n",
       "    </tr>\n",
       "    <tr>\n",
       "      <th>2</th>\n",
       "      <td>2</td>\n",
       "      <td>20.0</td>\n",
       "      <td>0.0</td>\n",
       "      <td>4.0</td>\n",
       "      <td>16.0</td>\n",
       "      <td>16.0</td>\n",
       "      <td>2.0</td>\n",
       "      <td>0.0</td>\n",
       "      <td>0.0</td>\n",
       "      <td>0.0</td>\n",
       "      <td>...</td>\n",
       "      <td>33.0</td>\n",
       "      <td>0.0</td>\n",
       "      <td>0.0</td>\n",
       "      <td>101.0</td>\n",
       "      <td>1.0</td>\n",
       "      <td>1.0</td>\n",
       "      <td>3.0</td>\n",
       "      <td>70.0</td>\n",
       "      <td>0.0</td>\n",
       "      <td>benign</td>\n",
       "    </tr>\n",
       "    <tr>\n",
       "      <th>3</th>\n",
       "      <td>3</td>\n",
       "      <td>27.0</td>\n",
       "      <td>0.0</td>\n",
       "      <td>13.0</td>\n",
       "      <td>14.0</td>\n",
       "      <td>14.0</td>\n",
       "      <td>3.0</td>\n",
       "      <td>0.0</td>\n",
       "      <td>0.0</td>\n",
       "      <td>0.0</td>\n",
       "      <td>...</td>\n",
       "      <td>15.0</td>\n",
       "      <td>0.0</td>\n",
       "      <td>0.0</td>\n",
       "      <td>151.0</td>\n",
       "      <td>1.0</td>\n",
       "      <td>1.0</td>\n",
       "      <td>1.0</td>\n",
       "      <td>55.0</td>\n",
       "      <td>0.0</td>\n",
       "      <td>benign</td>\n",
       "    </tr>\n",
       "    <tr>\n",
       "      <th>4</th>\n",
       "      <td>4</td>\n",
       "      <td>39.0</td>\n",
       "      <td>2.0</td>\n",
       "      <td>12.0</td>\n",
       "      <td>27.0</td>\n",
       "      <td>27.0</td>\n",
       "      <td>2.0</td>\n",
       "      <td>0.0</td>\n",
       "      <td>0.0</td>\n",
       "      <td>0.0</td>\n",
       "      <td>...</td>\n",
       "      <td>10.0</td>\n",
       "      <td>0.0</td>\n",
       "      <td>0.0</td>\n",
       "      <td>332.0</td>\n",
       "      <td>1.0</td>\n",
       "      <td>1.0</td>\n",
       "      <td>0.0</td>\n",
       "      <td>321.0</td>\n",
       "      <td>0.0</td>\n",
       "      <td>benign</td>\n",
       "    </tr>\n",
       "  </tbody>\n",
       "</table>\n",
       "<p>5 rows × 25 columns</p>\n",
       "</div>"
      ],
      "text/plain": [
       "   Unnamed: 0  url_len  url_num_hyphens_dom  url_path_len  url_domain_len  \\\n",
       "0           0     23.0                  0.0           8.0            15.0   \n",
       "1           1     75.0                  0.0          58.0            17.0   \n",
       "2           2     20.0                  0.0           4.0            16.0   \n",
       "3           3     27.0                  0.0          13.0            14.0   \n",
       "4           4     39.0                  2.0          12.0            27.0   \n",
       "\n",
       "   url_hostname_len  url_num_dots  url_num_underscores  url_query_len  \\\n",
       "0              15.0           2.0                  0.0            0.0   \n",
       "1              17.0           6.0                  0.0            0.0   \n",
       "2              16.0           2.0                  0.0            0.0   \n",
       "3              14.0           3.0                  0.0            0.0   \n",
       "4              27.0           2.0                  0.0            0.0   \n",
       "\n",
       "   url_num_query_para  ...  html_num_tags('script')  html_num_tags('embed')  \\\n",
       "0                 0.0  ...                      7.0                     0.0   \n",
       "1                 0.0  ...                     18.0                     0.0   \n",
       "2                 0.0  ...                     33.0                     0.0   \n",
       "3                 0.0  ...                     15.0                     0.0   \n",
       "4                 0.0  ...                     10.0                     0.0   \n",
       "\n",
       "   html_num_tags('object')  html_num_tags('div')  html_num_tags('head')  \\\n",
       "0                      0.0                   0.0                    1.0   \n",
       "1                      0.0                  20.0                    1.0   \n",
       "2                      0.0                 101.0                    1.0   \n",
       "3                      0.0                 151.0                    1.0   \n",
       "4                      0.0                 332.0                    1.0   \n",
       "\n",
       "   html_num_tags('body')  html_num_tags('form')  html_num_tags('a')  \\\n",
       "0                    1.0                    0.0                 0.0   \n",
       "1                    1.0                    0.0                21.0   \n",
       "2                    1.0                    3.0                70.0   \n",
       "3                    1.0                    1.0                55.0   \n",
       "4                    1.0                    0.0               321.0   \n",
       "\n",
       "   html_num_tags('applet')  Result_v1  \n",
       "0                      0.0  malicious  \n",
       "1                      0.0     benign  \n",
       "2                      0.0     benign  \n",
       "3                      0.0     benign  \n",
       "4                      0.0     benign  \n",
       "\n",
       "[5 rows x 25 columns]"
      ]
     },
     "execution_count": 2,
     "metadata": {},
     "output_type": "execute_result"
    }
   ],
   "source": [
    "df = pd.read_csv('train_dataset_v01.csv', delimiter=',')\n",
    "df.head()"
   ]
  },
  {
   "cell_type": "markdown",
   "metadata": {},
   "source": [
    "# <b>Step 1. 데이터 분석하기\n",
    "---"
   ]
  },
  {
   "cell_type": "markdown",
   "metadata": {},
   "source": [
    "단변량 분석은 데이터분석의 매우 기초적인 분석기법으로, 독립적인 개별 변수가 가지고있는 특성들을 이해하는 과정입니다.\n",
    "\n",
    "## <b>Q1. 데이터 단변량 분석하기\n",
    "\n",
    "<span style=\"color: green\"> 개별 변수에 대해 아래 사항들을 분석해보세요. </span>\n",
    "\n",
    "1. 변수가 내포하고 있는 의미\n",
    "2. 변수가 수치형인지, 범주형인지\n",
    "3. 결측치 존재 여부 및 조치 방안\n",
    "4. 기초 통계량 확인\n",
    "5. 데이터 분포 확인\n",
    "6. 위 정보로부터 파악한 내용 정리\n",
    "7. 추가 분석사항 도출"
   ]
  },
  {
   "cell_type": "code",
   "execution_count": 3,
   "metadata": {
    "tags": []
   },
   "outputs": [
    {
     "name": "stdout",
     "output_type": "stream",
     "text": [
      "<class 'pandas.core.frame.DataFrame'>\n",
      "RangeIndex: 3664 entries, 0 to 3663\n",
      "Data columns (total 25 columns):\n",
      " #   Column                   Non-Null Count  Dtype  \n",
      "---  ------                   --------------  -----  \n",
      " 0   Unnamed: 0               3664 non-null   int64  \n",
      " 1   url_len                  3664 non-null   float64\n",
      " 2   url_num_hyphens_dom      3664 non-null   float64\n",
      " 3   url_path_len             3663 non-null   float64\n",
      " 4   url_domain_len           3663 non-null   float64\n",
      " 5   url_hostname_len         3664 non-null   float64\n",
      " 6   url_num_dots             3664 non-null   float64\n",
      " 7   url_num_underscores      3664 non-null   float64\n",
      " 8   url_query_len            3664 non-null   float64\n",
      " 9   url_num_query_para       3664 non-null   float64\n",
      " 10  url_ip_present           3664 non-null   float64\n",
      " 11  url_entropy              3664 non-null   float64\n",
      " 12  url_chinese_present      3664 non-null   float64\n",
      " 13  url_port                 3664 non-null   float64\n",
      " 14  html_num_tags('iframe')  3664 non-null   float64\n",
      " 15  html_num_tags('script')  3664 non-null   float64\n",
      " 16  html_num_tags('embed')   3664 non-null   float64\n",
      " 17  html_num_tags('object')  3664 non-null   float64\n",
      " 18  html_num_tags('div')     3664 non-null   float64\n",
      " 19  html_num_tags('head')    3664 non-null   float64\n",
      " 20  html_num_tags('body')    3664 non-null   float64\n",
      " 21  html_num_tags('form')    3664 non-null   float64\n",
      " 22  html_num_tags('a')       3664 non-null   float64\n",
      " 23  html_num_tags('applet')  3664 non-null   float64\n",
      " 24  Result_v1                3664 non-null   object \n",
      "dtypes: float64(23), int64(1), object(1)\n",
      "memory usage: 715.8+ KB\n"
     ]
    }
   ],
   "source": [
    "df.info()"
   ]
  },
  {
   "cell_type": "markdown",
   "metadata": {},
   "source": [
    "1. url_ip_present, url_chinese_present, url_port, Result_v1 는 여부를 뜻하므로 범주형이다. \n",
    "- (url_chinese_present은 값이 없음)\n",
    "2. Result_v1 열을 제외한 범주형 열 값이 0과 1 뿐이므로 별도의 조치는 안해도 될 것으로 판단됨\n",
    "3. 대부분 개수, 길이를 뜻하는 수치형 데이터\n",
    "4. 첫번째 컬럼은 로드 시 인덱스 열이므로 무의미\n",
    "5. Result_v1 Target (benign, malicious)"
   ]
  },
  {
   "cell_type": "code",
   "execution_count": 4,
   "metadata": {
    "tags": []
   },
   "outputs": [
    {
     "name": "stdout",
     "output_type": "stream",
     "text": [
      "Unnamed: 0                 0\n",
      "url_len                    0\n",
      "url_num_hyphens_dom        0\n",
      "url_path_len               1\n",
      "url_domain_len             1\n",
      "url_hostname_len           0\n",
      "url_num_dots               0\n",
      "url_num_underscores        0\n",
      "url_query_len              0\n",
      "url_num_query_para         0\n",
      "url_ip_present             0\n",
      "url_entropy                0\n",
      "url_chinese_present        0\n",
      "url_port                   0\n",
      "html_num_tags('iframe')    0\n",
      "html_num_tags('script')    0\n",
      "html_num_tags('embed')     0\n",
      "html_num_tags('object')    0\n",
      "html_num_tags('div')       0\n",
      "html_num_tags('head')      0\n",
      "html_num_tags('body')      0\n",
      "html_num_tags('form')      0\n",
      "html_num_tags('a')         0\n",
      "html_num_tags('applet')    0\n",
      "Result_v1                  0\n",
      "dtype: int64\n",
      "Unnamed: 0                 0\n",
      "url_len                    0\n",
      "url_num_hyphens_dom        0\n",
      "url_path_len               0\n",
      "url_domain_len             0\n",
      "url_hostname_len           0\n",
      "url_num_dots               0\n",
      "url_num_underscores        0\n",
      "url_query_len              0\n",
      "url_num_query_para         0\n",
      "url_ip_present             0\n",
      "url_entropy                0\n",
      "url_chinese_present        0\n",
      "url_port                   0\n",
      "html_num_tags('iframe')    0\n",
      "html_num_tags('script')    0\n",
      "html_num_tags('embed')     0\n",
      "html_num_tags('object')    0\n",
      "html_num_tags('div')       0\n",
      "html_num_tags('head')      0\n",
      "html_num_tags('body')      0\n",
      "html_num_tags('form')      0\n",
      "html_num_tags('a')         0\n",
      "html_num_tags('applet')    0\n",
      "Result_v1                  0\n",
      "dtype: int64\n"
     ]
    }
   ],
   "source": [
    "print(df.isna().sum())\n",
    "# url_path_len, url_domain_len  결측치 NaN 존재, 0으로 채움\n",
    "df.fillna(value=0.0, inplace=True)\n",
    "print(df.isna().sum())"
   ]
  },
  {
   "cell_type": "code",
   "execution_count": 5,
   "metadata": {},
   "outputs": [
    {
     "data": {
      "text/html": [
       "<div>\n",
       "<style scoped>\n",
       "    .dataframe tbody tr th:only-of-type {\n",
       "        vertical-align: middle;\n",
       "    }\n",
       "\n",
       "    .dataframe tbody tr th {\n",
       "        vertical-align: top;\n",
       "    }\n",
       "\n",
       "    .dataframe thead th {\n",
       "        text-align: right;\n",
       "    }\n",
       "</style>\n",
       "<table border=\"1\" class=\"dataframe\">\n",
       "  <thead>\n",
       "    <tr style=\"text-align: right;\">\n",
       "      <th></th>\n",
       "      <th>Unnamed: 0</th>\n",
       "      <th>url_len</th>\n",
       "      <th>url_num_hyphens_dom</th>\n",
       "      <th>url_path_len</th>\n",
       "      <th>url_domain_len</th>\n",
       "      <th>url_hostname_len</th>\n",
       "      <th>url_num_dots</th>\n",
       "      <th>url_num_underscores</th>\n",
       "      <th>url_query_len</th>\n",
       "      <th>url_num_query_para</th>\n",
       "      <th>...</th>\n",
       "      <th>html_num_tags('iframe')</th>\n",
       "      <th>html_num_tags('script')</th>\n",
       "      <th>html_num_tags('embed')</th>\n",
       "      <th>html_num_tags('object')</th>\n",
       "      <th>html_num_tags('div')</th>\n",
       "      <th>html_num_tags('head')</th>\n",
       "      <th>html_num_tags('body')</th>\n",
       "      <th>html_num_tags('form')</th>\n",
       "      <th>html_num_tags('a')</th>\n",
       "      <th>html_num_tags('applet')</th>\n",
       "    </tr>\n",
       "  </thead>\n",
       "  <tbody>\n",
       "    <tr>\n",
       "      <th>count</th>\n",
       "      <td>3664.000000</td>\n",
       "      <td>3664.000000</td>\n",
       "      <td>3664.000000</td>\n",
       "      <td>3664.000000</td>\n",
       "      <td>3664.000000</td>\n",
       "      <td>3664.000000</td>\n",
       "      <td>3664.000000</td>\n",
       "      <td>3664.000000</td>\n",
       "      <td>3664.000000</td>\n",
       "      <td>3664.000000</td>\n",
       "      <td>...</td>\n",
       "      <td>3664.000000</td>\n",
       "      <td>3664.000000</td>\n",
       "      <td>3664.000000</td>\n",
       "      <td>3664.000000</td>\n",
       "      <td>3664.000000</td>\n",
       "      <td>3664.000000</td>\n",
       "      <td>3664.000000</td>\n",
       "      <td>3664.000000</td>\n",
       "      <td>3664.000000</td>\n",
       "      <td>3664.0</td>\n",
       "    </tr>\n",
       "    <tr>\n",
       "      <th>mean</th>\n",
       "      <td>1831.500000</td>\n",
       "      <td>54.559225</td>\n",
       "      <td>0.412937</td>\n",
       "      <td>29.357806</td>\n",
       "      <td>20.377729</td>\n",
       "      <td>20.330513</td>\n",
       "      <td>2.516921</td>\n",
       "      <td>0.272653</td>\n",
       "      <td>4.707697</td>\n",
       "      <td>0.104258</td>\n",
       "      <td>...</td>\n",
       "      <td>0.220797</td>\n",
       "      <td>8.785480</td>\n",
       "      <td>0.018013</td>\n",
       "      <td>0.028930</td>\n",
       "      <td>70.843886</td>\n",
       "      <td>0.998090</td>\n",
       "      <td>1.016648</td>\n",
       "      <td>1.028930</td>\n",
       "      <td>66.182860</td>\n",
       "      <td>0.0</td>\n",
       "    </tr>\n",
       "    <tr>\n",
       "      <th>std</th>\n",
       "      <td>1057.850021</td>\n",
       "      <td>82.493265</td>\n",
       "      <td>0.847058</td>\n",
       "      <td>78.586016</td>\n",
       "      <td>9.601609</td>\n",
       "      <td>9.628093</td>\n",
       "      <td>1.534119</td>\n",
       "      <td>1.124592</td>\n",
       "      <td>25.318285</td>\n",
       "      <td>0.574310</td>\n",
       "      <td>...</td>\n",
       "      <td>0.898383</td>\n",
       "      <td>12.647356</td>\n",
       "      <td>0.144808</td>\n",
       "      <td>0.237682</td>\n",
       "      <td>365.593304</td>\n",
       "      <td>0.144974</td>\n",
       "      <td>0.225330</td>\n",
       "      <td>1.563903</td>\n",
       "      <td>342.651459</td>\n",
       "      <td>0.0</td>\n",
       "    </tr>\n",
       "    <tr>\n",
       "      <th>min</th>\n",
       "      <td>0.000000</td>\n",
       "      <td>6.000000</td>\n",
       "      <td>0.000000</td>\n",
       "      <td>0.000000</td>\n",
       "      <td>0.000000</td>\n",
       "      <td>4.000000</td>\n",
       "      <td>1.000000</td>\n",
       "      <td>0.000000</td>\n",
       "      <td>0.000000</td>\n",
       "      <td>0.000000</td>\n",
       "      <td>...</td>\n",
       "      <td>0.000000</td>\n",
       "      <td>0.000000</td>\n",
       "      <td>0.000000</td>\n",
       "      <td>0.000000</td>\n",
       "      <td>0.000000</td>\n",
       "      <td>0.000000</td>\n",
       "      <td>0.000000</td>\n",
       "      <td>0.000000</td>\n",
       "      <td>0.000000</td>\n",
       "      <td>0.0</td>\n",
       "    </tr>\n",
       "    <tr>\n",
       "      <th>25%</th>\n",
       "      <td>915.750000</td>\n",
       "      <td>24.000000</td>\n",
       "      <td>0.000000</td>\n",
       "      <td>1.000000</td>\n",
       "      <td>14.000000</td>\n",
       "      <td>14.000000</td>\n",
       "      <td>2.000000</td>\n",
       "      <td>0.000000</td>\n",
       "      <td>0.000000</td>\n",
       "      <td>0.000000</td>\n",
       "      <td>...</td>\n",
       "      <td>0.000000</td>\n",
       "      <td>2.000000</td>\n",
       "      <td>0.000000</td>\n",
       "      <td>0.000000</td>\n",
       "      <td>6.000000</td>\n",
       "      <td>1.000000</td>\n",
       "      <td>1.000000</td>\n",
       "      <td>0.000000</td>\n",
       "      <td>2.000000</td>\n",
       "      <td>0.0</td>\n",
       "    </tr>\n",
       "    <tr>\n",
       "      <th>50%</th>\n",
       "      <td>1831.500000</td>\n",
       "      <td>36.000000</td>\n",
       "      <td>0.000000</td>\n",
       "      <td>13.000000</td>\n",
       "      <td>17.000000</td>\n",
       "      <td>17.000000</td>\n",
       "      <td>2.000000</td>\n",
       "      <td>0.000000</td>\n",
       "      <td>0.000000</td>\n",
       "      <td>0.000000</td>\n",
       "      <td>...</td>\n",
       "      <td>0.000000</td>\n",
       "      <td>4.000000</td>\n",
       "      <td>0.000000</td>\n",
       "      <td>0.000000</td>\n",
       "      <td>33.000000</td>\n",
       "      <td>1.000000</td>\n",
       "      <td>1.000000</td>\n",
       "      <td>1.000000</td>\n",
       "      <td>16.000000</td>\n",
       "      <td>0.0</td>\n",
       "    </tr>\n",
       "    <tr>\n",
       "      <th>75%</th>\n",
       "      <td>2747.250000</td>\n",
       "      <td>55.000000</td>\n",
       "      <td>1.000000</td>\n",
       "      <td>31.000000</td>\n",
       "      <td>24.000000</td>\n",
       "      <td>24.000000</td>\n",
       "      <td>3.000000</td>\n",
       "      <td>0.000000</td>\n",
       "      <td>0.000000</td>\n",
       "      <td>0.000000</td>\n",
       "      <td>...</td>\n",
       "      <td>0.000000</td>\n",
       "      <td>12.000000</td>\n",
       "      <td>0.000000</td>\n",
       "      <td>0.000000</td>\n",
       "      <td>62.000000</td>\n",
       "      <td>1.000000</td>\n",
       "      <td>1.000000</td>\n",
       "      <td>1.000000</td>\n",
       "      <td>52.000000</td>\n",
       "      <td>0.0</td>\n",
       "    </tr>\n",
       "    <tr>\n",
       "      <th>max</th>\n",
       "      <td>3663.000000</td>\n",
       "      <td>1837.000000</td>\n",
       "      <td>14.000000</td>\n",
       "      <td>1816.000000</td>\n",
       "      <td>109.000000</td>\n",
       "      <td>109.000000</td>\n",
       "      <td>32.000000</td>\n",
       "      <td>18.000000</td>\n",
       "      <td>429.000000</td>\n",
       "      <td>9.000000</td>\n",
       "      <td>...</td>\n",
       "      <td>26.000000</td>\n",
       "      <td>267.000000</td>\n",
       "      <td>3.000000</td>\n",
       "      <td>8.000000</td>\n",
       "      <td>19941.000000</td>\n",
       "      <td>3.000000</td>\n",
       "      <td>3.000000</td>\n",
       "      <td>57.000000</td>\n",
       "      <td>13451.000000</td>\n",
       "      <td>0.0</td>\n",
       "    </tr>\n",
       "  </tbody>\n",
       "</table>\n",
       "<p>8 rows × 24 columns</p>\n",
       "</div>"
      ],
      "text/plain": [
       "        Unnamed: 0      url_len  url_num_hyphens_dom  url_path_len  \\\n",
       "count  3664.000000  3664.000000          3664.000000   3664.000000   \n",
       "mean   1831.500000    54.559225             0.412937     29.357806   \n",
       "std    1057.850021    82.493265             0.847058     78.586016   \n",
       "min       0.000000     6.000000             0.000000      0.000000   \n",
       "25%     915.750000    24.000000             0.000000      1.000000   \n",
       "50%    1831.500000    36.000000             0.000000     13.000000   \n",
       "75%    2747.250000    55.000000             1.000000     31.000000   \n",
       "max    3663.000000  1837.000000            14.000000   1816.000000   \n",
       "\n",
       "       url_domain_len  url_hostname_len  url_num_dots  url_num_underscores  \\\n",
       "count     3664.000000       3664.000000   3664.000000          3664.000000   \n",
       "mean        20.377729         20.330513      2.516921             0.272653   \n",
       "std          9.601609          9.628093      1.534119             1.124592   \n",
       "min          0.000000          4.000000      1.000000             0.000000   \n",
       "25%         14.000000         14.000000      2.000000             0.000000   \n",
       "50%         17.000000         17.000000      2.000000             0.000000   \n",
       "75%         24.000000         24.000000      3.000000             0.000000   \n",
       "max        109.000000        109.000000     32.000000            18.000000   \n",
       "\n",
       "       url_query_len  url_num_query_para  ...  html_num_tags('iframe')  \\\n",
       "count    3664.000000         3664.000000  ...              3664.000000   \n",
       "mean        4.707697            0.104258  ...                 0.220797   \n",
       "std        25.318285            0.574310  ...                 0.898383   \n",
       "min         0.000000            0.000000  ...                 0.000000   \n",
       "25%         0.000000            0.000000  ...                 0.000000   \n",
       "50%         0.000000            0.000000  ...                 0.000000   \n",
       "75%         0.000000            0.000000  ...                 0.000000   \n",
       "max       429.000000            9.000000  ...                26.000000   \n",
       "\n",
       "       html_num_tags('script')  html_num_tags('embed')  \\\n",
       "count              3664.000000             3664.000000   \n",
       "mean                  8.785480                0.018013   \n",
       "std                  12.647356                0.144808   \n",
       "min                   0.000000                0.000000   \n",
       "25%                   2.000000                0.000000   \n",
       "50%                   4.000000                0.000000   \n",
       "75%                  12.000000                0.000000   \n",
       "max                 267.000000                3.000000   \n",
       "\n",
       "       html_num_tags('object')  html_num_tags('div')  html_num_tags('head')  \\\n",
       "count              3664.000000           3664.000000            3664.000000   \n",
       "mean                  0.028930             70.843886               0.998090   \n",
       "std                   0.237682            365.593304               0.144974   \n",
       "min                   0.000000              0.000000               0.000000   \n",
       "25%                   0.000000              6.000000               1.000000   \n",
       "50%                   0.000000             33.000000               1.000000   \n",
       "75%                   0.000000             62.000000               1.000000   \n",
       "max                   8.000000          19941.000000               3.000000   \n",
       "\n",
       "       html_num_tags('body')  html_num_tags('form')  html_num_tags('a')  \\\n",
       "count            3664.000000            3664.000000         3664.000000   \n",
       "mean                1.016648               1.028930           66.182860   \n",
       "std                 0.225330               1.563903          342.651459   \n",
       "min                 0.000000               0.000000            0.000000   \n",
       "25%                 1.000000               0.000000            2.000000   \n",
       "50%                 1.000000               1.000000           16.000000   \n",
       "75%                 1.000000               1.000000           52.000000   \n",
       "max                 3.000000              57.000000        13451.000000   \n",
       "\n",
       "       html_num_tags('applet')  \n",
       "count                   3664.0  \n",
       "mean                       0.0  \n",
       "std                        0.0  \n",
       "min                        0.0  \n",
       "25%                        0.0  \n",
       "50%                        0.0  \n",
       "75%                        0.0  \n",
       "max                        0.0  \n",
       "\n",
       "[8 rows x 24 columns]"
      ]
     },
     "execution_count": 5,
     "metadata": {},
     "output_type": "execute_result"
    }
   ],
   "source": [
    "df.describe()"
   ]
  },
  {
   "cell_type": "code",
   "execution_count": 6,
   "metadata": {},
   "outputs": [
    {
     "data": {
      "image/png": "[encoded data removed]",
      "text/plain": [
       "<Figure size 432x288 with 1 Axes>"
      ]
     },
     "metadata": {
      "needs_background": "light"
     },
     "output_type": "display_data"
    }
   ],
   "source": [
    "# 가설 1 url내에 ip가 있으면 악성사이트 일 것이다.\n",
    "feature = \"url_ip_present\"\n",
    "sns.countplot(x=feature, data=df)\n",
    "plt.show()"
   ]
  },
  {
   "cell_type": "code",
   "execution_count": 7,
   "metadata": {},
   "outputs": [
    {
     "data": {
      "image/png": "[encoded data removed]",
      "text/plain": [
       "<Figure size 432x288 with 1 Axes>"
      ]
     },
     "metadata": {
      "needs_background": "light"
     },
     "output_type": "display_data"
    }
   ],
   "source": [
    "# 가설 2 url_entropy : URL 복잡도 가 클수록 악성사이트 일 것이다.\n",
    "feature = \"url_entropy\"\n",
    "sns.kdeplot(x=feature, data=df)\n",
    "plt.show()"
   ]
  },
  {
   "cell_type": "markdown",
   "metadata": {},
   "source": [
    "## <b>Q2. 데이터 이변량 분석하기\n",
    "\n",
    "* 자료의 종류에 맞게 X --> Y 에 대해서 그래프(시각화)와 가설검정(수치화)를 수행하고 결과를 평가합니다.\n",
    "* 가설검정시 다음의 항목을 참조하여 수행합니다.\n",
    "    * 적절한 유의수준\n",
    "    * 숫자 --> 숫자 : 상관분석\n",
    "    * 범주 --> 범주 : 카이제곱검정\n",
    "    * 범주 --> 숫자 : t검정, 분산분석\n",
    "    * 숫자 --> 범주 : 로지스틱 회귀모형을 통해, 회귀계수의 P.value로 검정을 수행합니다."
   ]
  },
  {
   "cell_type": "code",
   "execution_count": 8,
   "metadata": {},
   "outputs": [],
   "source": [
    "target = 'Result_v1'"
   ]
  },
  {
   "cell_type": "code",
   "execution_count": 9,
   "metadata": {},
   "outputs": [
    {
     "data": {
      "image/png": "[encoded data removed]",
      "text/plain": [
       "<Figure size 432x288 with 1 Axes>"
      ]
     },
     "metadata": {
      "needs_background": "light"
     },
     "output_type": "display_data"
    },
    {
     "name": "stdout",
     "output_type": "stream",
     "text": [
      "카이제곱통계량 1.4254603062250373\n",
      "p-value 0.23250675009815402\n",
      "기대빈도 1\n"
     ]
    }
   ],
   "source": [
    "# 가설 1 url내에 ip가 있으면 악성사이트 일 것이다.\n",
    "feature = \"url_ip_present\"\n",
    "temp = pd.crosstab(df[feature], df[target], normalize='index')\n",
    "temp.plot.bar(stacked=True)\n",
    "plt.axhline(1-df[target].map({'benign' : 0, 'malicious' : 1}).mean(), color='r')\n",
    "plt.show()\n",
    "result = spst.chi2_contingency(temp)\n",
    "print('카이제곱통계량', result[0])\n",
    "print('p-value', result[1])\n",
    "print('기대빈도', result[2])"
   ]
  },
  {
   "cell_type": "code",
   "execution_count": 10,
   "metadata": {},
   "outputs": [
    {
     "data": {
      "image/png": "[encoded data removed]",
      "text/plain": [
       "<Figure size 432x288 with 1 Axes>"
      ]
     },
     "metadata": {
      "needs_background": "light"
     },
     "output_type": "display_data"
    },
    {
     "name": "stdout",
     "output_type": "stream",
     "text": [
      "Optimization terminated successfully.\n",
      "         Current function value: 0.693146\n",
      "         Iterations 2\n",
      "url_entropy    0.941981\n",
      "dtype: float64\n"
     ]
    }
   ],
   "source": [
    "# 가설 2 url_entropy : URL 복잡도 가 클수록 악성사이트 일 것이다.\n",
    "feature = \"url_entropy\"\n",
    "sns.kdeplot(x=feature, data=df, hue=target)\n",
    "plt.show()\n",
    "\n",
    "import statsmodels.api as sm\n",
    "\n",
    "model = sm.Logit(df[target].map({'benign' : 0, 'malicious' : 1}), df[feature])\n",
    "result = model.fit()\n",
    "print(result.pvalues)"
   ]
  },
  {
   "cell_type": "code",
   "execution_count": 11,
   "metadata": {},
   "outputs": [
    {
     "data": {
      "image/png": "[encoded data removed]",
      "text/plain": [
       "<Figure size 432x288 with 1 Axes>"
      ]
     },
     "metadata": {
      "needs_background": "light"
     },
     "output_type": "display_data"
    },
    {
     "name": "stdout",
     "output_type": "stream",
     "text": [
      "Optimization terminated successfully.\n",
      "         Current function value: 0.685429\n",
      "         Iterations 7\n",
      "html_num_tags('embed')    3.335172e-07\n",
      "dtype: float64\n"
     ]
    },
    {
     "data": {
      "image/png": "[encoded data removed]",
      "text/plain": [
       "<Figure size 432x288 with 1 Axes>"
      ]
     },
     "metadata": {
      "needs_background": "light"
     },
     "output_type": "display_data"
    },
    {
     "name": "stdout",
     "output_type": "stream",
     "text": [
      "Optimization terminated successfully.\n",
      "         Current function value: 0.683457\n",
      "         Iterations 7\n",
      "html_num_tags('object')    4.489999e-09\n",
      "dtype: float64\n"
     ]
    }
   ],
   "source": [
    "# 가설 3 embed, object 태그가 많으면 악성 사이트 일 것이다.\n",
    "feature = \"html_num_tags('embed')\"\n",
    "sns.histplot(x=feature, hue=target, data=df)\n",
    "plt.show()\n",
    "\n",
    "import statsmodels.api as sm\n",
    "\n",
    "model = sm.Logit(df[target].map({'benign' : 0, 'malicious' : 1}), df[feature])\n",
    "result = model.fit()\n",
    "print(result.pvalues)\n",
    "\n",
    "feature = \"html_num_tags('object')\"\n",
    "sns.histplot(x=feature, hue=target, data=df)\n",
    "plt.show()\n",
    "\n",
    "model = sm.Logit(df[target].map({'benign' : 0, 'malicious' : 1}), df[feature])\n",
    "result = model.fit()\n",
    "print(result.pvalues)\n"
   ]
  },
  {
   "cell_type": "code",
   "execution_count": 12,
   "metadata": {},
   "outputs": [],
   "source": [
    "# url_entropy 는 강한 상관관계가 있다.\n",
    "# html_num_tags('embed') 와 html_num_tags('object') 는 예상외로 관계가 없었다.\n",
    "# url_ip_present 는 약한 중간 정도의 관계가 있었다."
   ]
  },
  {
   "cell_type": "code",
   "execution_count": null,
   "metadata": {},
   "outputs": [],
   "source": []
  },
  {
   "cell_type": "markdown",
   "metadata": {},
   "source": [
    "# <b>Step 2. 데이터 전처리\n",
    "---"
   ]
  },
  {
   "cell_type": "markdown",
   "metadata": {},
   "source": [
    "## <b>Q3. 중복 데이터 제거\n",
    "### 우리가 접속하는 대부분의 웹사이트는 정상 사이트입니다.\n",
    "### 또한, 특정 몇 개 사이트(ex. google, instagram, facebook 등)에 접속 빈도가 높습니다.\n",
    "### 편중된 데이터는 모델 학습에 안 좋은 영향을 주기 때문에 중복 데이터 제거를 통해 해결합니다.\n",
    "### 이 과정은 데이터 전처리 시 반드시 해야 하는 과정은 아니며, 프로젝트/데이터 성격에 맞게 결정하시면 됩니다."
   ]
  },
  {
   "cell_type": "markdown",
   "metadata": {},
   "source": [
    "### <span style=\"color:darkred\">[문제1] df info()를 통해 데이터를 확인하고 중복된 데이터는 삭제해주세요. 삭제 후 info()를 통해 이전 데이터와 비교해 보세요.<span>"
   ]
  },
  {
   "cell_type": "code",
   "execution_count": 13,
   "metadata": {},
   "outputs": [
    {
     "name": "stdout",
     "output_type": "stream",
     "text": [
      "<class 'pandas.core.frame.DataFrame'>\n",
      "RangeIndex: 3664 entries, 0 to 3663\n",
      "Data columns (total 25 columns):\n",
      " #   Column                   Non-Null Count  Dtype  \n",
      "---  ------                   --------------  -----  \n",
      " 0   Unnamed: 0               3664 non-null   int64  \n",
      " 1   url_len                  3664 non-null   float64\n",
      " 2   url_num_hyphens_dom      3664 non-null   float64\n",
      " 3   url_path_len             3664 non-null   float64\n",
      " 4   url_domain_len           3664 non-null   float64\n",
      " 5   url_hostname_len         3664 non-null   float64\n",
      " 6   url_num_dots             3664 non-null   float64\n",
      " 7   url_num_underscores      3664 non-null   float64\n",
      " 8   url_query_len            3664 non-null   float64\n",
      " 9   url_num_query_para       3664 non-null   float64\n",
      " 10  url_ip_present           3664 non-null   float64\n",
      " 11  url_entropy              3664 non-null   float64\n",
      " 12  url_chinese_present      3664 non-null   float64\n",
      " 13  url_port                 3664 non-null   float64\n",
      " 14  html_num_tags('iframe')  3664 non-null   float64\n",
      " 15  html_num_tags('script')  3664 non-null   float64\n",
      " 16  html_num_tags('embed')   3664 non-null   float64\n",
      " 17  html_num_tags('object')  3664 non-null   float64\n",
      " 18  html_num_tags('div')     3664 non-null   float64\n",
      " 19  html_num_tags('head')    3664 non-null   float64\n",
      " 20  html_num_tags('body')    3664 non-null   float64\n",
      " 21  html_num_tags('form')    3664 non-null   float64\n",
      " 22  html_num_tags('a')       3664 non-null   float64\n",
      " 23  html_num_tags('applet')  3664 non-null   float64\n",
      " 24  Result_v1                3664 non-null   object \n",
      "dtypes: float64(23), int64(1), object(1)\n",
      "memory usage: 715.8+ KB\n"
     ]
    }
   ],
   "source": [
    "# 데이터 프레임의 info를 확인합니다.\n",
    "df.info()"
   ]
  },
  {
   "cell_type": "code",
   "execution_count": 14,
   "metadata": {},
   "outputs": [],
   "source": [
    "# 중복 데이터 제거를 제거합니다.\n",
    "df = df.drop_duplicates()"
   ]
  },
  {
   "cell_type": "code",
   "execution_count": 15,
   "metadata": {},
   "outputs": [
    {
     "name": "stdout",
     "output_type": "stream",
     "text": [
      "<class 'pandas.core.frame.DataFrame'>\n",
      "Int64Index: 3664 entries, 0 to 3663\n",
      "Data columns (total 25 columns):\n",
      " #   Column                   Non-Null Count  Dtype  \n",
      "---  ------                   --------------  -----  \n",
      " 0   Unnamed: 0               3664 non-null   int64  \n",
      " 1   url_len                  3664 non-null   float64\n",
      " 2   url_num_hyphens_dom      3664 non-null   float64\n",
      " 3   url_path_len             3664 non-null   float64\n",
      " 4   url_domain_len           3664 non-null   float64\n",
      " 5   url_hostname_len         3664 non-null   float64\n",
      " 6   url_num_dots             3664 non-null   float64\n",
      " 7   url_num_underscores      3664 non-null   float64\n",
      " 8   url_query_len            3664 non-null   float64\n",
      " 9   url_num_query_para       3664 non-null   float64\n",
      " 10  url_ip_present           3664 non-null   float64\n",
      " 11  url_entropy              3664 non-null   float64\n",
      " 12  url_chinese_present      3664 non-null   float64\n",
      " 13  url_port                 3664 non-null   float64\n",
      " 14  html_num_tags('iframe')  3664 non-null   float64\n",
      " 15  html_num_tags('script')  3664 non-null   float64\n",
      " 16  html_num_tags('embed')   3664 non-null   float64\n",
      " 17  html_num_tags('object')  3664 non-null   float64\n",
      " 18  html_num_tags('div')     3664 non-null   float64\n",
      " 19  html_num_tags('head')    3664 non-null   float64\n",
      " 20  html_num_tags('body')    3664 non-null   float64\n",
      " 21  html_num_tags('form')    3664 non-null   float64\n",
      " 22  html_num_tags('a')       3664 non-null   float64\n",
      " 23  html_num_tags('applet')  3664 non-null   float64\n",
      " 24  Result_v1                3664 non-null   object \n",
      "dtypes: float64(23), int64(1), object(1)\n",
      "memory usage: 744.2+ KB\n"
     ]
    }
   ],
   "source": [
    "# 데이터 프레임의 info를 확인합니다.\n",
    "df.info()"
   ]
  },
  {
   "cell_type": "code",
   "execution_count": null,
   "metadata": {},
   "outputs": [],
   "source": []
  },
  {
   "cell_type": "code",
   "execution_count": null,
   "metadata": {},
   "outputs": [],
   "source": []
  },
  {
   "cell_type": "code",
   "execution_count": null,
   "metadata": {},
   "outputs": [],
   "source": []
  },
  {
   "cell_type": "markdown",
   "metadata": {},
   "source": [
    "---"
   ]
  },
  {
   "cell_type": "markdown",
   "metadata": {},
   "source": [
    "## <b>Q4. 텍스트와 범주형 특성 처리\n",
    "\n",
    "### 기계가 데이터를 인식할 수 있도록 텍스트 데이터를 수치형 데이터로 변경합니다.\n",
    " - replace() 함수를 이용한 텍스트와 범주형 특성 처리"
   ]
  },
  {
   "cell_type": "markdown",
   "metadata": {},
   "source": [
    "**<span style=\"color:green\">[참고링크] 공식 Document**</span>\n",
    "\n",
    "* replace(https://pandas.pydata.org/pandas-docs/stable/reference/api/pandas.DataFrame.replace.html)\n",
    "* unique(https://pandas.pydata.org/pandas-docs/stable/reference/api/pandas.unique.html)"
   ]
  },
  {
   "cell_type": "markdown",
   "metadata": {},
   "source": [
    "### <span style=\"color:blue\">[예시] df_ex 데이터 프레임에서 replace 함수를 활용 'CA'는'California'로 'NY'는 'NewYork'으로 변경합니다.<span>"
   ]
  },
  {
   "cell_type": "code",
   "execution_count": 16,
   "metadata": {},
   "outputs": [
    {
     "name": "stdout",
     "output_type": "stream",
     "text": [
      "      name  age state  point\n",
      "0    Alice   24    NY     64\n",
      "1      Bob   42    CA     24\n",
      "2  Charlie   18    CA     70\n",
      "3     Dave   68    TX     70\n",
      "4    Ellen   24    CA     88\n",
      "5    Frank   30    NY     57\n"
     ]
    }
   ],
   "source": [
    "import pandas as pd\n",
    "\n",
    "df_ex = pd.DataFrame({'name': ['Alice','Bob','Charlie','Dave','Ellen','Frank'],\n",
    "                   'age': [24,42,18,68,24,30],\n",
    "                   'state': ['NY','CA','CA','TX','CA','NY'],\n",
    "                   'point': [64,24,70,70,88,57]}\n",
    "                  )\n",
    "\n",
    "print(df_ex)"
   ]
  },
  {
   "cell_type": "code",
   "execution_count": 17,
   "metadata": {},
   "outputs": [
    {
     "name": "stdout",
     "output_type": "stream",
     "text": [
      "      name  age       state  point\n",
      "0    Alice   24     NewYork     64\n",
      "1      Bob   42  California     24\n",
      "2  Charlie   18  California     70\n",
      "3     Dave   68          TX     70\n",
      "4    Ellen   24  California     88\n",
      "5    Frank   30     NewYork     57\n"
     ]
    }
   ],
   "source": [
    "df_ex = df_ex.replace({'CA' : 'California', 'NY' : 'NewYork'})\n",
    "print(df_ex)"
   ]
  },
  {
   "cell_type": "markdown",
   "metadata": {},
   "source": [
    "### <span style=\"color:darkred\">[문제2] replace() 함수를 활용 'benign'은 1로 'malicious'은 -1로 변경해주세요. 삭제 후 df['Result_v1'] 전후 데이터를 비교해 보세요.<span>"
   ]
  },
  {
   "cell_type": "code",
   "execution_count": 18,
   "metadata": {},
   "outputs": [
    {
     "data": {
      "text/plain": [
       "array(['malicious', 'benign'], dtype=object)"
      ]
     },
     "execution_count": 18,
     "metadata": {},
     "output_type": "execute_result"
    }
   ],
   "source": [
    "# 텍스트 데이터를 수치형 데이터로 변경 전 unique() 함수를 통해 유일한 값 확인\n",
    "\n",
    "pd.unique(df['Result_v1'])"
   ]
  },
  {
   "cell_type": "code",
   "execution_count": 19,
   "metadata": {},
   "outputs": [],
   "source": [
    "# replace() 함수를 사용 텍스트 데이터를 수치형 데이터로 변경합니다.\n",
    "df = df.replace({'benign' : 1, 'malicious' : -1})\n",
    "\n"
   ]
  },
  {
   "cell_type": "code",
   "execution_count": 20,
   "metadata": {},
   "outputs": [
    {
     "data": {
      "text/plain": [
       "array([-1,  1], dtype=int64)"
      ]
     },
     "execution_count": 20,
     "metadata": {},
     "output_type": "execute_result"
    }
   ],
   "source": [
    "# 텍스트 데이터를 수치형 데이터로 후 unique() 함수를 통해 유일한 값 확인\n",
    "\n",
    "pd.unique(df['Result_v1'])\n"
   ]
  },
  {
   "cell_type": "markdown",
   "metadata": {},
   "source": [
    "---"
   ]
  },
  {
   "cell_type": "markdown",
   "metadata": {},
   "source": [
    "## <b>Q5. 결측치 처리\n",
    "\n",
    "### 데이터 수집 과정에서 발생한 오류 등으로 인해 결측치가 포함된 경우가 많습니다.\n",
    "### 모델링 전에 결측치를 확인하고 이를 정제하는 과정은 필요합니다."
   ]
  },
  {
   "cell_type": "markdown",
   "metadata": {},
   "source": [
    "### <span style=\"color:darkred\">[문제3] 결측치의 존재를 확인하고 결측치가 포함된 데이터를 처리해보세요.<span>"
   ]
  },
  {
   "cell_type": "code",
   "execution_count": 21,
   "metadata": {},
   "outputs": [
    {
     "name": "stdout",
     "output_type": "stream",
     "text": [
      "Unnamed: 0                 0\n",
      "url_len                    0\n",
      "url_num_hyphens_dom        0\n",
      "url_path_len               0\n",
      "url_domain_len             0\n",
      "url_hostname_len           0\n",
      "url_num_dots               0\n",
      "url_num_underscores        0\n",
      "url_query_len              0\n",
      "url_num_query_para         0\n",
      "url_ip_present             0\n",
      "url_entropy                0\n",
      "url_chinese_present        0\n",
      "url_port                   0\n",
      "html_num_tags('iframe')    0\n",
      "html_num_tags('script')    0\n",
      "html_num_tags('embed')     0\n",
      "html_num_tags('object')    0\n",
      "html_num_tags('div')       0\n",
      "html_num_tags('head')      0\n",
      "html_num_tags('body')      0\n",
      "html_num_tags('form')      0\n",
      "html_num_tags('a')         0\n",
      "html_num_tags('applet')    0\n",
      "Result_v1                  0\n",
      "dtype: int64\n"
     ]
    }
   ],
   "source": [
    "# 결축치의 존재를 확인합니다.\n",
    "\n",
    "#위에서 이미 처리함 코드 기술\n",
    "print(df.isna().sum())\n",
    "# url_path_len, url_domain_len  결측치 NaN 존재, 0으로 채움\n",
    "\n"
   ]
  },
  {
   "cell_type": "code",
   "execution_count": 22,
   "metadata": {},
   "outputs": [],
   "source": [
    "# 결측치를 적절히 처리해줍니다.\n",
    "df.fillna(value=0.0, inplace=True)\n",
    "\n"
   ]
  },
  {
   "cell_type": "code",
   "execution_count": 23,
   "metadata": {},
   "outputs": [
    {
     "name": "stdout",
     "output_type": "stream",
     "text": [
      "Unnamed: 0                 0\n",
      "url_len                    0\n",
      "url_num_hyphens_dom        0\n",
      "url_path_len               0\n",
      "url_domain_len             0\n",
      "url_hostname_len           0\n",
      "url_num_dots               0\n",
      "url_num_underscores        0\n",
      "url_query_len              0\n",
      "url_num_query_para         0\n",
      "url_ip_present             0\n",
      "url_entropy                0\n",
      "url_chinese_present        0\n",
      "url_port                   0\n",
      "html_num_tags('iframe')    0\n",
      "html_num_tags('script')    0\n",
      "html_num_tags('embed')     0\n",
      "html_num_tags('object')    0\n",
      "html_num_tags('div')       0\n",
      "html_num_tags('head')      0\n",
      "html_num_tags('body')      0\n",
      "html_num_tags('form')      0\n",
      "html_num_tags('a')         0\n",
      "html_num_tags('applet')    0\n",
      "Result_v1                  0\n",
      "dtype: int64\n"
     ]
    }
   ],
   "source": [
    "# 결축치의 존재를 확인합니다.\n",
    "\n",
    "print(df.isna().sum())"
   ]
  },
  {
   "cell_type": "markdown",
   "metadata": {},
   "source": [
    "---"
   ]
  },
  {
   "cell_type": "markdown",
   "metadata": {},
   "source": [
    "## <b>Q6. 데이터 탐색을 통해 새로운 변수 추가 혹은 불필요한 변수 제거\n",
    "\n",
    "### AI모델의 성능 향상을 위해 기존의 변수를 조합해 새로운 변수를 만들어 내기도 하고\n",
    "### 데이터 분석을 통해 필요없는 변수는 삭제하는 과정이 필요 합니다."
   ]
  },
  {
   "cell_type": "markdown",
   "metadata": {},
   "source": [
    "### <span style=\"color:darkred\">[문제4] 상관관계 함수 및 데이터 시각화 등을 활용하며 데이터셋을 분석하고 컬럼을 추가/삭제 해보세요.<span>"
   ]
  },
  {
   "cell_type": "code",
   "execution_count": 24,
   "metadata": {},
   "outputs": [
    {
     "data": {
      "text/html": [
       "<div>\n",
       "<style scoped>\n",
       "    .dataframe tbody tr th:only-of-type {\n",
       "        vertical-align: middle;\n",
       "    }\n",
       "\n",
       "    .dataframe tbody tr th {\n",
       "        vertical-align: top;\n",
       "    }\n",
       "\n",
       "    .dataframe thead th {\n",
       "        text-align: right;\n",
       "    }\n",
       "</style>\n",
       "<table border=\"1\" class=\"dataframe\">\n",
       "  <thead>\n",
       "    <tr style=\"text-align: right;\">\n",
       "      <th></th>\n",
       "      <th>feature</th>\n",
       "      <th>상관계수</th>\n",
       "      <th>p-value</th>\n",
       "    </tr>\n",
       "  </thead>\n",
       "  <tbody>\n",
       "    <tr>\n",
       "      <th>0</th>\n",
       "      <td>Unnamed: 0</td>\n",
       "      <td>-0.000809</td>\n",
       "      <td>9.609433e-01</td>\n",
       "    </tr>\n",
       "    <tr>\n",
       "      <th>1</th>\n",
       "      <td>url_len</td>\n",
       "      <td>-0.007512</td>\n",
       "      <td>6.494148e-01</td>\n",
       "    </tr>\n",
       "    <tr>\n",
       "      <th>2</th>\n",
       "      <td>url_num_hyphens_dom</td>\n",
       "      <td>-0.354017</td>\n",
       "      <td>1.227189e-108</td>\n",
       "    </tr>\n",
       "    <tr>\n",
       "      <th>3</th>\n",
       "      <td>url_path_len</td>\n",
       "      <td>0.100449</td>\n",
       "      <td>1.103784e-09</td>\n",
       "    </tr>\n",
       "    <tr>\n",
       "      <th>4</th>\n",
       "      <td>url_domain_len</td>\n",
       "      <td>-0.379724</td>\n",
       "      <td>5.276697e-126</td>\n",
       "    </tr>\n",
       "    <tr>\n",
       "      <th>5</th>\n",
       "      <td>url_hostname_len</td>\n",
       "      <td>-0.382665</td>\n",
       "      <td>4.298664e-128</td>\n",
       "    </tr>\n",
       "    <tr>\n",
       "      <th>6</th>\n",
       "      <td>url_num_dots</td>\n",
       "      <td>0.046109</td>\n",
       "      <td>5.245140e-03</td>\n",
       "    </tr>\n",
       "    <tr>\n",
       "      <th>7</th>\n",
       "      <td>url_num_underscores</td>\n",
       "      <td>0.128370</td>\n",
       "      <td>6.191809e-15</td>\n",
       "    </tr>\n",
       "    <tr>\n",
       "      <th>8</th>\n",
       "      <td>url_query_len</td>\n",
       "      <td>-0.188624</td>\n",
       "      <td>1.080125e-30</td>\n",
       "    </tr>\n",
       "    <tr>\n",
       "      <th>9</th>\n",
       "      <td>url_num_query_para</td>\n",
       "      <td>-0.184156</td>\n",
       "      <td>2.606444e-29</td>\n",
       "    </tr>\n",
       "    <tr>\n",
       "      <th>10</th>\n",
       "      <td>url_ip_present</td>\n",
       "      <td>0.079730</td>\n",
       "      <td>1.350346e-06</td>\n",
       "    </tr>\n",
       "    <tr>\n",
       "      <th>11</th>\n",
       "      <td>url_entropy</td>\n",
       "      <td>-0.165712</td>\n",
       "      <td>5.685014e-24</td>\n",
       "    </tr>\n",
       "    <tr>\n",
       "      <th>12</th>\n",
       "      <td>url_chinese_present</td>\n",
       "      <td>NaN</td>\n",
       "      <td>NaN</td>\n",
       "    </tr>\n",
       "    <tr>\n",
       "      <th>13</th>\n",
       "      <td>url_port</td>\n",
       "      <td>0.011032</td>\n",
       "      <td>5.044181e-01</td>\n",
       "    </tr>\n",
       "    <tr>\n",
       "      <th>14</th>\n",
       "      <td>html_num_tags('iframe')</td>\n",
       "      <td>0.021732</td>\n",
       "      <td>1.884488e-01</td>\n",
       "    </tr>\n",
       "    <tr>\n",
       "      <th>15</th>\n",
       "      <td>html_num_tags('script')</td>\n",
       "      <td>0.201022</td>\n",
       "      <td>1.030251e-34</td>\n",
       "    </tr>\n",
       "    <tr>\n",
       "      <th>16</th>\n",
       "      <td>html_num_tags('embed')</td>\n",
       "      <td>0.107575</td>\n",
       "      <td>6.650072e-11</td>\n",
       "    </tr>\n",
       "    <tr>\n",
       "      <th>17</th>\n",
       "      <td>html_num_tags('object')</td>\n",
       "      <td>0.103939</td>\n",
       "      <td>2.854763e-10</td>\n",
       "    </tr>\n",
       "    <tr>\n",
       "      <th>18</th>\n",
       "      <td>html_num_tags('div')</td>\n",
       "      <td>0.063548</td>\n",
       "      <td>1.185122e-04</td>\n",
       "    </tr>\n",
       "    <tr>\n",
       "      <th>19</th>\n",
       "      <td>html_num_tags('head')</td>\n",
       "      <td>-0.024292</td>\n",
       "      <td>1.415192e-01</td>\n",
       "    </tr>\n",
       "    <tr>\n",
       "      <th>20</th>\n",
       "      <td>html_num_tags('body')</td>\n",
       "      <td>-0.111296</td>\n",
       "      <td>1.422653e-11</td>\n",
       "    </tr>\n",
       "    <tr>\n",
       "      <th>21</th>\n",
       "      <td>html_num_tags('form')</td>\n",
       "      <td>-0.122802</td>\n",
       "      <td>8.716677e-14</td>\n",
       "    </tr>\n",
       "    <tr>\n",
       "      <th>22</th>\n",
       "      <td>html_num_tags('a')</td>\n",
       "      <td>0.121794</td>\n",
       "      <td>1.389595e-13</td>\n",
       "    </tr>\n",
       "    <tr>\n",
       "      <th>23</th>\n",
       "      <td>html_num_tags('applet')</td>\n",
       "      <td>NaN</td>\n",
       "      <td>NaN</td>\n",
       "    </tr>\n",
       "  </tbody>\n",
       "</table>\n",
       "</div>"
      ],
      "text/plain": [
       "                    feature      상관계수        p-value\n",
       "0                Unnamed: 0 -0.000809   9.609433e-01\n",
       "1                   url_len -0.007512   6.494148e-01\n",
       "2       url_num_hyphens_dom -0.354017  1.227189e-108\n",
       "3              url_path_len  0.100449   1.103784e-09\n",
       "4            url_domain_len -0.379724  5.276697e-126\n",
       "5          url_hostname_len -0.382665  4.298664e-128\n",
       "6              url_num_dots  0.046109   5.245140e-03\n",
       "7       url_num_underscores  0.128370   6.191809e-15\n",
       "8             url_query_len -0.188624   1.080125e-30\n",
       "9        url_num_query_para -0.184156   2.606444e-29\n",
       "10           url_ip_present  0.079730   1.350346e-06\n",
       "11              url_entropy -0.165712   5.685014e-24\n",
       "12      url_chinese_present       NaN            NaN\n",
       "13                 url_port  0.011032   5.044181e-01\n",
       "14  html_num_tags('iframe')  0.021732   1.884488e-01\n",
       "15  html_num_tags('script')  0.201022   1.030251e-34\n",
       "16   html_num_tags('embed')  0.107575   6.650072e-11\n",
       "17  html_num_tags('object')  0.103939   2.854763e-10\n",
       "18     html_num_tags('div')  0.063548   1.185122e-04\n",
       "19    html_num_tags('head') -0.024292   1.415192e-01\n",
       "20    html_num_tags('body') -0.111296   1.422653e-11\n",
       "21    html_num_tags('form') -0.122802   8.716677e-14\n",
       "22       html_num_tags('a')  0.121794   1.389595e-13\n",
       "23  html_num_tags('applet')       NaN            NaN"
      ]
     },
     "execution_count": 24,
     "metadata": {},
     "output_type": "execute_result"
    }
   ],
   "source": [
    "target = 'Result_v1'\n",
    "features = df.drop(target, axis=1).columns\n",
    "pearsonr = []\n",
    "for feature in features:\n",
    "    X = df[feature]\n",
    "    Y = df[target]\n",
    "    result = spst.pearsonr(X,Y)\n",
    "    pearsonr.append({'feature' : feature, '상관계수' : result[0], 'p-value' : result[1]})\n",
    "    \n",
    "temp = pd.DataFrame(pearsonr)\n",
    "temp.head(30)\n",
    "\n"
   ]
  },
  {
   "cell_type": "code",
   "execution_count": 25,
   "metadata": {},
   "outputs": [],
   "source": [
    "df = df.drop('url_chinese_present', axis=1) # 값이 없어서 삭제\n",
    "df = df.drop('url_hostname_len', axis=1) # Domain_Len 과 중복되어 삭제\n",
    "df = df.drop('Unnamed: 0', axis=1) # 인덱스열이라 삭제\n",
    "df = df.drop(\"html_num_tags('applet')\", axis=1) # 값이 없어서 삭제"
   ]
  },
  {
   "cell_type": "code",
   "execution_count": 26,
   "metadata": {},
   "outputs": [
    {
     "data": {
      "text/plain": [
       "<AxesSubplot:>"
      ]
     },
     "execution_count": 26,
     "metadata": {},
     "output_type": "execute_result"
    },
    {
     "data": {
      "image/png": "[encoded data removed]",
      "text/plain": [
       "<Figure size 1728x576 with 2 Axes>"
      ]
     },
     "metadata": {
      "needs_background": "light"
     },
     "output_type": "display_data"
    }
   ],
   "source": [
    "plt.figure(figsize=(24,8))\n",
    "sns.heatmap(df.corr())"
   ]
  },
  {
   "cell_type": "code",
   "execution_count": 27,
   "metadata": {},
   "outputs": [],
   "source": [
    "# # 새로운 feature 생성\n",
    "# df[\"url_ip_port\"] = df['url_ip_present'] + df['url_port']\n",
    "# # df[\"html_num_tags_sum_1\"] = df[\"html_num_tags('script')\"] + df[\"html_num_tags('iframe')\"]\n",
    "# # df[\"html_num_tags_sum_2\"] = df[\"url_query_len\"] + df[\"url_num_query_para\"]\n",
    "# # df[\"html_num_tags_sum_3\"] = df[\"html_num_tags('embed')\"] + df[\"html_num_tags('object')\"]\n",
    "# # df[\"html_num_tags_sum_4\"] = df[\"html_num_tags('div')\"] + df[\"html_num_tags('a')\"]\n",
    "# # df.head(5)\n",
    "\n",
    "# print(spst.pearsonr(df[\"url_ip_port\"],df[\"Result_v1\"]))\n",
    "# print(spst.pearsonr(df[\"html_num_tags_sum_1\"],df[\"Result_v1\"]))\n",
    "# print(spst.pearsonr(df[\"html_num_tags_sum_2\"],df[\"Result_v1\"]))\n",
    "# print(spst.pearsonr(df[\"html_num_tags_sum_3\"],df[\"Result_v1\"]))\n",
    "# print(spst.pearsonr(df[\"html_num_tags_sum_4\"],df[\"Result_v1\"]))\n",
    "\n",
    "# 유의미한 상관관계를 찾을 수 없어 임시 보류"
   ]
  },
  {
   "cell_type": "markdown",
   "metadata": {},
   "source": [
    "---"
   ]
  },
  {
   "cell_type": "markdown",
   "metadata": {},
   "source": [
    "## <b>Q7. train_test_split을 이용하여, train_x, test_x, train_y, test_y로 데이터 분리\n",
    "\n",
    "### 모델을 학습하는 데에는 Train 데이터만 사용해야 합니다.\n",
    "### 학습에 사용하지 않은 데이터를 통해 모델을 평가해야 합니다.\n",
    "### 그러기 위해 Train / Test 데이터로 분리합니다.\n"
   ]
  },
  {
   "cell_type": "markdown",
   "metadata": {},
   "source": [
    "**<span style=\"color:green\">[참고링크] 공식 Document**</span>\n",
    "\n",
    "* train_test_split(https://scikit-learn.org/stable/modules/generated/sklearn.model_selection.train_test_split.html)"
   ]
  },
  {
   "cell_type": "markdown",
   "metadata": {},
   "source": [
    "### <span style=\"color:darkred\">[문제5] train_test_split 함수를 사용하여 train 데이터와 test 데이터를 분리하고 각각의 shape를 확인하세요<span>"
   ]
  },
  {
   "cell_type": "code",
   "execution_count": 28,
   "metadata": {},
   "outputs": [
    {
     "name": "stdout",
     "output_type": "stream",
     "text": [
      "(2564, 20)\n",
      "(1100, 20)\n",
      "(2564,)\n",
      "(1100,)\n"
     ]
    }
   ],
   "source": [
    "target = 'Result_v1'\n",
    "\n",
    "x = df.drop(target, axis=1)\n",
    "y = df.loc[:, target]\n",
    "x_train, x_val, y_train, y_val = train_test_split(x,y,test_size=0.3, random_state=2022)\n",
    "\n",
    "print(x_train.shape)\n",
    "print(x_val.shape)\n",
    "print(y_train.shape)\n",
    "print(y_val.shape)"
   ]
  }
 ],
 "metadata": {
  "kernelspec": {
   "display_name": "Python 3",
   "language": "python",
   "name": "python3"
  },
  "language_info": {
   "codemirror_mode": {
    "name": "ipython",
    "version": 3
   },
   "file_extension": ".py",
   "mimetype": "text/x-python",
   "name": "python",
   "nbconvert_exporter": "python",
   "pygments_lexer": "ipython3",
   "version": "3.8.8"
  },
  "vscode": {
   "interpreter": {
    "hash": "f08154012ddadd8e950e6e9e035c7a7b32c136e7647e9b7c77e02eb723a8bedb"
   }
  }
 },
 "nbformat": 4,
 "nbformat_minor": 4
}
