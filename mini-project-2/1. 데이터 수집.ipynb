{
 "cells": [
  {
   "cell_type": "markdown",
   "metadata": {},
   "source": [
    "## [미니프로젝트] 악성사이트 탐지 머신러닝 모델 개발\n",
    "\n",
    "### 여러분은 기업 보안팀에서 근무중인 엔지니어로써, 웹페이지에서 추출한 Feature(특징) 기반으로 악성사이트를 탐지하는 머신러닝 모델 개발 미션을 부여받았습니다.\n",
    "\n",
    "### ▣ 우리가 풀어야 하는 문제는 무엇인가요?\n",
    " - 웹 페이지에서 Feature를 추출하세요.\n",
    " - 악성사이트 여부를 판별하는 성능 좋은 AI모델을 생성하세요.\n",
    "\n",
    "<br>\n",
    "\n",
    "---\n",
    "\n",
    "## ▣ 데이터 소개\n",
    "* 웹 크롤링 데이터셋 : Feature_Website.xlsx\n",
    "\n",
    "## ▣ 웹 크롤링 데이터셋의 변수 소개\n",
    "* html_code : 크롤링을 활용해 수집한 HTML Code 원본\n",
    "* repu : 악성사이트 여부 (malicious : 악성사이트, benign : 정상사이트)\n",
    "<br>\n",
    "\n",
    "---"
   ]
  },
  {
   "cell_type": "markdown",
   "metadata": {},
   "source": [
    "## <b>[1단계] 데이터 수집</b>\n",
    "\n",
    "* 1단계에서는 크롤링으로 수집한 HTML Code를 활용해 Feature를 만드는 과정을 체험합니다."
   ]
  },
  {
   "cell_type": "markdown",
   "metadata": {},
   "source": [
    "# <b>Step 0. 본격적인 실습 전 packages 설치\n",
    "* Beautifulsoup 라이브러리 설치\n",
    "* openpyxl 라이브러리 설치"
   ]
  },
  {
   "cell_type": "code",
   "execution_count": 148,
   "metadata": {},
   "outputs": [
    {
     "name": "stdout",
     "output_type": "stream",
     "text": [
      "Requirement already satisfied: beautifulsoup4 in c:\\users\\user\\anaconda3\\lib\\site-packages (4.9.3)\n",
      "Requirement already satisfied: soupsieve>1.2 in c:\\users\\user\\anaconda3\\lib\\site-packages (from beautifulsoup4) (2.2.1)\n",
      "Requirement already satisfied: openpyxl in c:\\users\\user\\anaconda3\\lib\\site-packages (3.0.7)\n",
      "Requirement already satisfied: et-xmlfile in c:\\users\\user\\anaconda3\\lib\\site-packages (from openpyxl) (1.0.1)\n"
     ]
    }
   ],
   "source": [
    "!pip install beautifulsoup4\n",
    "!pip install openpyxl"
   ]
  },
  {
   "cell_type": "markdown",
   "metadata": {},
   "source": [
    "* 데이터 프레임 관련 라이브러리 Import"
   ]
  },
  {
   "cell_type": "code",
   "execution_count": 149,
   "metadata": {},
   "outputs": [],
   "source": [
    "import pandas as pd\n",
    "import numpy as np\n",
    "from bs4 import BeautifulSoup"
   ]
  },
  {
   "cell_type": "markdown",
   "metadata": {},
   "source": [
    "---\n",
    "## <b>Q1. 데이터 불러오기\n",
    "### 정상/악성 HTML Code가 저장된 엑셀파일 불러오기\n",
    "- 파일명 : Feature Website.xlsx\n"
   ]
  },
  {
   "cell_type": "markdown",
   "metadata": {},
   "source": [
    "### <span style=\"color:darkred\">[문제1] Pandas 라이브러리를 활용해서 'Feature Website.xlsx'파일을 'df' 변수에 저장하고 그 info()및 head()를 통해 데이터를 확인하세요.<span>"
   ]
  },
  {
   "cell_type": "code",
   "execution_count": 150,
   "metadata": {},
   "outputs": [],
   "source": [
    "# 아래에 실습코드를 작성하고 결과를 확인합니다.\n",
    "df = pd.read_excel('Feature_website.xlsx')"
   ]
  },
  {
   "cell_type": "code",
   "execution_count": 151,
   "metadata": {},
   "outputs": [
    {
     "name": "stdout",
     "output_type": "stream",
     "text": [
      "<class 'pandas.core.frame.DataFrame'>\n",
      "RangeIndex: 40 entries, 0 to 39\n",
      "Data columns (total 2 columns):\n",
      " #   Column     Non-Null Count  Dtype \n",
      "---  ------     --------------  ----- \n",
      " 0   html_code  40 non-null     object\n",
      " 1   repu       40 non-null     object\n",
      "dtypes: object(2)\n",
      "memory usage: 768.0+ bytes\n"
     ]
    }
   ],
   "source": [
    "# 데이터 프레임의 info를 확인합니다.\n",
    "df.info()"
   ]
  },
  {
   "cell_type": "code",
   "execution_count": 152,
   "metadata": {},
   "outputs": [
    {
     "data": {
      "text/html": [
       "<div>\n",
       "<style scoped>\n",
       "    .dataframe tbody tr th:only-of-type {\n",
       "        vertical-align: middle;\n",
       "    }\n",
       "\n",
       "    .dataframe tbody tr th {\n",
       "        vertical-align: top;\n",
       "    }\n",
       "\n",
       "    .dataframe thead th {\n",
       "        text-align: right;\n",
       "    }\n",
       "</style>\n",
       "<table border=\"1\" class=\"dataframe\">\n",
       "  <thead>\n",
       "    <tr style=\"text-align: right;\">\n",
       "      <th></th>\n",
       "      <th>html_code</th>\n",
       "      <th>repu</th>\n",
       "    </tr>\n",
       "  </thead>\n",
       "  <tbody>\n",
       "    <tr>\n",
       "      <th>0</th>\n",
       "      <td>&lt;!DOCTYPE html&gt;\\n&lt;!--[if lt IE 7]&gt; &lt;html lang=...</td>\n",
       "      <td>malicious</td>\n",
       "    </tr>\n",
       "    <tr>\n",
       "      <th>1</th>\n",
       "      <td>\\n\\t\\n\\n\\n\\t\\n\\n\\t\\n\\n\\n\\t\\n\\n\\n\\t\\n\\n\\t\\n\\t\\t...</td>\n",
       "      <td>malicious</td>\n",
       "    </tr>\n",
       "    <tr>\n",
       "      <th>2</th>\n",
       "      <td>&lt;!DOCTYPE html&gt;\\n&lt;html lang=\"en\"&gt;\\n    &lt;head&gt;\\...</td>\n",
       "      <td>malicious</td>\n",
       "    </tr>\n",
       "    <tr>\n",
       "      <th>3</th>\n",
       "      <td>&lt;!DOCTYPE html&gt;&lt;html lang=\"en\"&gt;&lt;head&gt;&lt;style da...</td>\n",
       "      <td>malicious</td>\n",
       "    </tr>\n",
       "    <tr>\n",
       "      <th>4</th>\n",
       "      <td>&lt;!DOCTYPE html&gt;\\n\\n\\n    \\n    \\n    \\n    \\n ...</td>\n",
       "      <td>malicious</td>\n",
       "    </tr>\n",
       "  </tbody>\n",
       "</table>\n",
       "</div>"
      ],
      "text/plain": [
       "                                           html_code       repu\n",
       "0  <!DOCTYPE html>\\n<!--[if lt IE 7]> <html lang=...  malicious\n",
       "1  \\n\\t\\n\\n\\n\\t\\n\\n\\t\\n\\n\\n\\t\\n\\n\\n\\t\\n\\n\\t\\n\\t\\t...  malicious\n",
       "2  <!DOCTYPE html>\\n<html lang=\"en\">\\n    <head>\\...  malicious\n",
       "3  <!DOCTYPE html><html lang=\"en\"><head><style da...  malicious\n",
       "4  <!DOCTYPE html>\\n\\n\\n    \\n    \\n    \\n    \\n ...  malicious"
      ]
     },
     "execution_count": 152,
     "metadata": {},
     "output_type": "execute_result"
    }
   ],
   "source": [
    "# 불러온 데이터를 확인합니다.\n",
    "df.head()"
   ]
  },
  {
   "cell_type": "markdown",
   "metadata": {},
   "source": [
    "---\n",
    "# <b>Step 1. 데이터 수집\n",
    "\n",
    "### 주어진 데이터로만 모델링 하는 경우는 드뭅니다.\n",
    "### 주어진 데이터 외 추가로 데이터를 수집 또는 생성해야 하는 경우가 많습니다.\n",
    "### 이번 과정에서는 웹 크롤러를 통해 수집된 정상/악성 사이트 HTML 데이터에서\n",
    "### BeatifulSoup 라이브러리를 활용 필요한 Feature(특징)를 추출해 보도록 하겠습니다.\n",
    "### 정상/악성 사이트 HTML Code는 사전에 수집하여 'Feature Website.xlsx' 파일에 저장해 두었습니다.\n"
   ]
  },
  {
   "cell_type": "markdown",
   "metadata": {},
   "source": [
    "### <span style=\"color:blue\">[예시] Beatuifulsoup 라이브러리를 활용 HTML code를 출력하고 \\<title> 태그 길이를 계산합니다.<span>"
   ]
  },
  {
   "cell_type": "code",
   "execution_count": 153,
   "metadata": {},
   "outputs": [],
   "source": [
    "from bs4 import BeautifulSoup\n",
    "\n",
    "soup = BeautifulSoup(df['html_code'][0], 'html.parser')"
   ]
  },
  {
   "cell_type": "markdown",
   "metadata": {},
   "source": [
    "*<span style=\"color:blue\"> html code 출력<span>"
   ]
  },
  {
   "cell_type": "code",
   "execution_count": 154,
   "metadata": {},
   "outputs": [
    {
     "name": "stdout",
     "output_type": "stream",
     "text": [
      "<!DOCTYPE html>\n",
      "\n",
      "<!--[if lt IE 7]> <html lang=\"en-us\" class=\"a-no-js a-lt-ie9 a-lt-ie8 a-lt-ie7\"> <![endif]-->\n",
      "<!--[if IE 7]>    <html lang=\"en-us\" class=\"a-no-js a-lt-ie9 a-lt-ie8\"> <![endif]-->\n",
      "<!--[if IE 8]>    <html lang=\"en-us\" class=\"a-no-js a-lt-ie9\"> <![endif]-->\n",
      "<!--[if gt IE 8]><!-->\n",
      "<html class=\"a-no-js\" lang=\"en-us\"><!--<![endif]--><head>\n",
      "<meta content=\"text/html; charset=utf-8\" http-equiv=\"content-type\"/>\n",
      "<meta charset=\"utf-8\"/>\n",
      "<meta content=\"IE=edge,chrome=1\" http-equiv=\"X-UA-Compatible\"/>\n",
      "<title dir=\"ltr\">Amazon.com</title>\n",
      "<meta content=\"width=device-width\" name=\"viewport\"/>\n",
      "<link href=\"https://images-na.ssl-images-amazon.com/images/G/01/AUIClients/AmazonUI-3c913031596ca78a3768f4e934b1cc02ce238101.secure.min._V1_.css\" rel=\"stylesheet\"/>\n",
      "<script>\n",
      "\n",
      "if (true === true) {\n",
      "    var ue_t0 = (+ new Date()),\n",
      "        ue_csm = window,\n",
      "        ue = { t0: ue_t0, d: function() { return (+new Date() - ue_t0); } },\n",
      "        ue_furl = \"fls-na.amazon.com\",\n",
      "        ue_mid = \"ATVPDKIKX0DER\",\n",
      "        ue_sid = (document.cookie.match(/session-id=([0-9-]+)/) || [])[1],\n",
      "        ue_sn = \"opfcaptcha.amazon.com\",\n",
      "        ue_id = 'BY6PY7346W2THV0MAFYZ';\n",
      "}\n",
      "</script>\n",
      "</head>\n",
      "<body>\n",
      "<!--\n",
      "        To discuss automated access to Amazon data please contact api-services-support@amazon.com.\n",
      "        For information about migrating to our APIs refer to our Marketplace APIs at https://developer.amazonservices.com/ref=rm_c_sv, or our Product Advertising API at https://affiliate-program.amazon.com/gp/advertising/api/detail/main.html/ref=rm_c_ac for advertising use cases.\n",
      "-->\n",
      "<!--\n",
      "Correios.DoNotSend\n",
      "-->\n",
      "<div class=\"a-container a-padding-double-large\" style=\"min-width:350px;padding:44px 0 !important\">\n",
      "<div class=\"a-row a-spacing-double-large\" style=\"width: 350px; margin: 0 auto\">\n",
      "<div class=\"a-row a-spacing-medium a-text-center\"><i class=\"a-icon a-logo\"></i></div>\n",
      "<div class=\"a-box a-alert a-alert-info a-spacing-base\">\n",
      "<div class=\"a-box-inner\">\n",
      "<i class=\"a-icon a-icon-alert\"></i>\n",
      "<h4>Enter the characters you see below</h4>\n",
      "<p class=\"a-last\">Sorry, we just need to make sure you're not a robot. For best results, please make sure your browser is accepting cookies.</p>\n",
      "</div>\n",
      "</div>\n",
      "<div class=\"a-section\">\n",
      "<div class=\"a-box a-color-offset-background\">\n",
      "<div class=\"a-box-inner a-padding-extra-large\">\n",
      "<form action=\"/errors/validateCaptcha\" method=\"get\" name=\"\">\n",
      "<input name=\"amzn\" type=\"hidden\" value=\"l4ZbaPUKjIME467w2sDxhg==\"/><input name=\"amzn-r\" type=\"hidden\" value=\"/\"/>\n",
      "<div class=\"a-row a-spacing-large\">\n",
      "<div class=\"a-box\">\n",
      "<div class=\"a-box-inner\">\n",
      "<h4>Type the characters you see in this image:</h4>\n",
      "<div class=\"a-row a-text-center\">\n",
      "<img src=\"https://images-na.ssl-images-amazon.com/captcha/wxvwzfzh/Captcha_tujfcmjndm.jpg\"/>\n",
      "</div>\n",
      "<div class=\"a-row a-spacing-base\">\n",
      "<div class=\"a-row\">\n",
      "<div class=\"a-column a-span6\">\n",
      "</div>\n",
      "<div class=\"a-column a-span6 a-span-last a-text-right\">\n",
      "<a onclick=\"window.location.reload()\">Try different image</a>\n",
      "</div>\n",
      "</div>\n",
      "<input autocapitalize=\"off\" autocomplete=\"off\" autocorrect=\"off\" class=\"a-span12\" id=\"captchacharacters\" name=\"field-keywords\" placeholder=\"Type characters\" spellcheck=\"false\" type=\"text\"/>\n",
      "</div>\n",
      "</div>\n",
      "</div>\n",
      "</div>\n",
      "<div class=\"a-section a-spacing-extra-large\">\n",
      "<div class=\"a-row\">\n",
      "<span class=\"a-button a-button-primary a-span12\">\n",
      "<span class=\"a-button-inner\">\n",
      "<button class=\"a-button-text\" type=\"submit\">Continue shopping</button>\n",
      "</span>\n",
      "</span>\n",
      "</div>\n",
      "</div>\n",
      "</form>\n",
      "</div>\n",
      "</div>\n",
      "</div>\n",
      "</div>\n",
      "<div class=\"a-divider a-divider-section\"><div class=\"a-divider-inner\"></div></div>\n",
      "<div class=\"a-text-center a-spacing-small a-size-mini\">\n",
      "<a href=\"https://www.amazon.com/gp/help/customer/display.html/ref=footer_cou?ie=UTF8&amp;nodeId=508088\">Conditions of Use</a>\n",
      "<span class=\"a-letter-space\"></span>\n",
      "<span class=\"a-letter-space\"></span>\n",
      "<span class=\"a-letter-space\"></span>\n",
      "<span class=\"a-letter-space\"></span>\n",
      "<a href=\"https://www.amazon.com/gp/help/customer/display.html/ref=footer_privacy?ie=UTF8&amp;nodeId=468496\">Privacy Policy</a>\n",
      "</div>\n",
      "<div class=\"a-text-center a-size-mini a-color-secondary\">\n",
      "          © 1996-2014, Amazon.com, Inc. or its affiliates\n",
      "          <script>\n",
      "           if (true === true) {\n",
      "             document.write('<img src=\"https://fls-na.amaz'+'on.com/'+'1/oc-csi/1/OP/requestId=BY6PY7346W2THV0MAFYZ&js=1\" />');\n",
      "           };\n",
      "          </script>\n",
      "<noscript>\n",
      "<img src=\"https://fls-na.amazon.com/1/oc-csi/1/OP/requestId=BY6PY7346W2THV0MAFYZ&amp;js=0\">\n",
      "</img></noscript>\n",
      "</div>\n",
      "</div>\n",
      "<script>\n",
      "    if (true === true) {\n",
      "        var head = document.getElementsByTagName('head')[0],\n",
      "            prefix = \"https://images-na.ssl-images-amazon.com/images/G/01/csminstrumentation/\",\n",
      "            elem = document.createElement(\"script\");\n",
      "        elem.src = prefix + \"csm-captcha-instrumentation.min.js\";\n",
      "        head.appendChild(elem);\n",
      "\n",
      "        elem = document.createElement(\"script\");\n",
      "        elem.src = prefix + \"rd-script-6d68177fa6061598e9509dc4b5bdd08d.js\";\n",
      "        head.appendChild(elem);\n",
      "    }\n",
      "    </script>\n",
      "</body></html>\n",
      "\n"
     ]
    }
   ],
   "source": [
    "print(soup)"
   ]
  },
  {
   "cell_type": "markdown",
   "metadata": {},
   "source": [
    "* <span style=\"color:blue\"> \\<title> 태그 출력 및 길이 계산<span>"
   ]
  },
  {
   "cell_type": "code",
   "execution_count": 155,
   "metadata": {},
   "outputs": [
    {
     "name": "stdout",
     "output_type": "stream",
     "text": [
      "* title : <title dir=\"ltr\">Amazon.com</title>\n",
      "* title 길이 : 10\n"
     ]
    }
   ],
   "source": [
    "# <title> 태그 출력\n",
    "print(\"* title :\",soup.head.title)\n",
    "\n",
    "# <title> 태그 길이 출력\n",
    "print(\"* title 길이 :\", len(str(soup.head.title.getText())))"
   ]
  },
  {
   "cell_type": "code",
   "execution_count": 156,
   "metadata": {},
   "outputs": [],
   "source": [
    "def title_length(soup):\n",
    "    try:\n",
    "        return(len(str(soup.head.title.getText())))\n",
    "    except:\n",
    "        return 0.0"
   ]
  },
  {
   "cell_type": "code",
   "execution_count": 157,
   "metadata": {},
   "outputs": [],
   "source": [
    "title_len = []\n",
    "\n",
    "for index, row in df.iterrows():\n",
    "    soup = BeautifulSoup(row.html_code, 'html.parser')\n",
    "    title_len.append(title_length(soup))"
   ]
  },
  {
   "cell_type": "code",
   "execution_count": 158,
   "metadata": {},
   "outputs": [
    {
     "data": {
      "text/html": [
       "<div>\n",
       "<style scoped>\n",
       "    .dataframe tbody tr th:only-of-type {\n",
       "        vertical-align: middle;\n",
       "    }\n",
       "\n",
       "    .dataframe tbody tr th {\n",
       "        vertical-align: top;\n",
       "    }\n",
       "\n",
       "    .dataframe thead th {\n",
       "        text-align: right;\n",
       "    }\n",
       "</style>\n",
       "<table border=\"1\" class=\"dataframe\">\n",
       "  <thead>\n",
       "    <tr style=\"text-align: right;\">\n",
       "      <th></th>\n",
       "      <th>html_code</th>\n",
       "      <th>repu</th>\n",
       "      <th>title_length</th>\n",
       "    </tr>\n",
       "  </thead>\n",
       "  <tbody>\n",
       "    <tr>\n",
       "      <th>0</th>\n",
       "      <td>&lt;!DOCTYPE html&gt;\\n&lt;!--[if lt IE 7]&gt; &lt;html lang=...</td>\n",
       "      <td>malicious</td>\n",
       "      <td>10.0</td>\n",
       "    </tr>\n",
       "    <tr>\n",
       "      <th>1</th>\n",
       "      <td>\\n\\t\\n\\n\\n\\t\\n\\n\\t\\n\\n\\n\\t\\n\\n\\n\\t\\n\\n\\t\\n\\t\\t...</td>\n",
       "      <td>malicious</td>\n",
       "      <td>5.0</td>\n",
       "    </tr>\n",
       "    <tr>\n",
       "      <th>2</th>\n",
       "      <td>&lt;!DOCTYPE html&gt;\\n&lt;html lang=\"en\"&gt;\\n    &lt;head&gt;\\...</td>\n",
       "      <td>malicious</td>\n",
       "      <td>71.0</td>\n",
       "    </tr>\n",
       "    <tr>\n",
       "      <th>3</th>\n",
       "      <td>&lt;!DOCTYPE html&gt;&lt;html lang=\"en\"&gt;&lt;head&gt;&lt;style da...</td>\n",
       "      <td>malicious</td>\n",
       "      <td>0.0</td>\n",
       "    </tr>\n",
       "    <tr>\n",
       "      <th>4</th>\n",
       "      <td>&lt;!DOCTYPE html&gt;\\n\\n\\n    \\n    \\n    \\n    \\n ...</td>\n",
       "      <td>malicious</td>\n",
       "      <td>27.0</td>\n",
       "    </tr>\n",
       "  </tbody>\n",
       "</table>\n",
       "</div>"
      ],
      "text/plain": [
       "                                           html_code       repu  title_length\n",
       "0  <!DOCTYPE html>\\n<!--[if lt IE 7]> <html lang=...  malicious          10.0\n",
       "1  \\n\\t\\n\\n\\n\\t\\n\\n\\t\\n\\n\\n\\t\\n\\n\\n\\t\\n\\n\\t\\n\\t\\t...  malicious           5.0\n",
       "2  <!DOCTYPE html>\\n<html lang=\"en\">\\n    <head>\\...  malicious          71.0\n",
       "3  <!DOCTYPE html><html lang=\"en\"><head><style da...  malicious           0.0\n",
       "4  <!DOCTYPE html>\\n\\n\\n    \\n    \\n    \\n    \\n ...  malicious          27.0"
      ]
     },
     "execution_count": 158,
     "metadata": {},
     "output_type": "execute_result"
    }
   ],
   "source": [
    "df['title_length'] = title_len\n",
    "df.head()"
   ]
  },
  {
   "cell_type": "markdown",
   "metadata": {},
   "source": [
    "---"
   ]
  },
  {
   "cell_type": "markdown",
   "metadata": {},
   "source": [
    "## <b>Q2. html 에서 \\<script>...\\</script> 태그 길이 계산\n",
    "- BeautifulSoup으로 html소스를 python 객체로 변환\n",
    "- 함수로 구현하기\n",
    "- float으로 return 받기"
   ]
  },
  {
   "cell_type": "markdown",
   "metadata": {},
   "source": [
    "### <span style=\"color:darkred\">[문제2] Beatuifulsoup 라이브러리를 활용 HTML code에서 \\<script> 태그 길이를 계산하는 함수를 완성하고 결과를 확인하세요.<span>"
   ]
  },
  {
   "cell_type": "code",
   "execution_count": 159,
   "metadata": {},
   "outputs": [],
   "source": [
    "# Feature(특징) 데이터를 추출는 함수를 작성합니다.\n",
    "\n",
    "def script_tag_len(soup):\n",
    "    try:\n",
    "        return(float(len(str(soup.html.script))))\n",
    "    except:\n",
    "            return 0.0"
   ]
  },
  {
   "cell_type": "code",
   "execution_count": 160,
   "metadata": {},
   "outputs": [],
   "source": [
    "# 데이터 프레임의 html_code 컬럼에서 Feature(특징) 데이터를 추출합니다.\n",
    "\n",
    "script_len = []\n",
    "\n",
    "for index, row in df.iterrows():\n",
    "    soup = BeautifulSoup(row.html_code, 'html.parser')\n",
    "    script_len.append(script_tag_len(soup))"
   ]
  },
  {
   "cell_type": "code",
   "execution_count": 161,
   "metadata": {},
   "outputs": [
    {
     "data": {
      "text/html": [
       "<div>\n",
       "<style scoped>\n",
       "    .dataframe tbody tr th:only-of-type {\n",
       "        vertical-align: middle;\n",
       "    }\n",
       "\n",
       "    .dataframe tbody tr th {\n",
       "        vertical-align: top;\n",
       "    }\n",
       "\n",
       "    .dataframe thead th {\n",
       "        text-align: right;\n",
       "    }\n",
       "</style>\n",
       "<table border=\"1\" class=\"dataframe\">\n",
       "  <thead>\n",
       "    <tr style=\"text-align: right;\">\n",
       "      <th></th>\n",
       "      <th>html_code</th>\n",
       "      <th>repu</th>\n",
       "      <th>title_length</th>\n",
       "      <th>script_length</th>\n",
       "    </tr>\n",
       "  </thead>\n",
       "  <tbody>\n",
       "    <tr>\n",
       "      <th>0</th>\n",
       "      <td>&lt;!DOCTYPE html&gt;\\n&lt;!--[if lt IE 7]&gt; &lt;html lang=...</td>\n",
       "      <td>malicious</td>\n",
       "      <td>10.0</td>\n",
       "      <td>405.0</td>\n",
       "    </tr>\n",
       "    <tr>\n",
       "      <th>1</th>\n",
       "      <td>\\n\\t\\n\\n\\n\\t\\n\\n\\t\\n\\n\\n\\t\\n\\n\\n\\t\\n\\n\\t\\n\\t\\t...</td>\n",
       "      <td>malicious</td>\n",
       "      <td>5.0</td>\n",
       "      <td>579.0</td>\n",
       "    </tr>\n",
       "    <tr>\n",
       "      <th>2</th>\n",
       "      <td>&lt;!DOCTYPE html&gt;\\n&lt;html lang=\"en\"&gt;\\n    &lt;head&gt;\\...</td>\n",
       "      <td>malicious</td>\n",
       "      <td>71.0</td>\n",
       "      <td>817.0</td>\n",
       "    </tr>\n",
       "    <tr>\n",
       "      <th>3</th>\n",
       "      <td>&lt;!DOCTYPE html&gt;&lt;html lang=\"en\"&gt;&lt;head&gt;&lt;style da...</td>\n",
       "      <td>malicious</td>\n",
       "      <td>0.0</td>\n",
       "      <td>4.0</td>\n",
       "    </tr>\n",
       "    <tr>\n",
       "      <th>4</th>\n",
       "      <td>&lt;!DOCTYPE html&gt;\\n\\n\\n    \\n    \\n    \\n    \\n ...</td>\n",
       "      <td>malicious</td>\n",
       "      <td>27.0</td>\n",
       "      <td>425.0</td>\n",
       "    </tr>\n",
       "  </tbody>\n",
       "</table>\n",
       "</div>"
      ],
      "text/plain": [
       "                                           html_code       repu  title_length  \\\n",
       "0  <!DOCTYPE html>\\n<!--[if lt IE 7]> <html lang=...  malicious          10.0   \n",
       "1  \\n\\t\\n\\n\\n\\t\\n\\n\\t\\n\\n\\n\\t\\n\\n\\n\\t\\n\\n\\t\\n\\t\\t...  malicious           5.0   \n",
       "2  <!DOCTYPE html>\\n<html lang=\"en\">\\n    <head>\\...  malicious          71.0   \n",
       "3  <!DOCTYPE html><html lang=\"en\"><head><style da...  malicious           0.0   \n",
       "4  <!DOCTYPE html>\\n\\n\\n    \\n    \\n    \\n    \\n ...  malicious          27.0   \n",
       "\n",
       "   script_length  \n",
       "0          405.0  \n",
       "1          579.0  \n",
       "2          817.0  \n",
       "3            4.0  \n",
       "4          425.0  "
      ]
     },
     "execution_count": 161,
     "metadata": {},
     "output_type": "execute_result"
    }
   ],
   "source": [
    "# 추출한 Feature(특징) 데이터를 확인합니다.\n",
    "df['script_length'] = script_len\n",
    "df.head()"
   ]
  },
  {
   "cell_type": "markdown",
   "metadata": {},
   "source": [
    "---"
   ]
  },
  {
   "cell_type": "markdown",
   "metadata": {},
   "source": [
    "## <b>Q3. html에서 공백 수 계산\n",
    "\n",
    "- BeautifulSoup으로 html소스를 python 객체로 변환\n",
    "- 함수로 구현하기\n",
    "- float으로 return 받기"
   ]
  },
  {
   "cell_type": "markdown",
   "metadata": {},
   "source": [
    "### <span style=\"color:darkred\">[문제3] Beatuifulsoup 라이브러리를 활용 HTML Code에서 \\<html> 태그 공백 수를 계산하는 함수를 완성하고 결과를 확인하세요.<span>"
   ]
  },
  {
   "cell_type": "code",
   "execution_count": 162,
   "metadata": {},
   "outputs": [],
   "source": [
    "# Feature(특징) 데이터를 추출하는 함수를 작성합니다.\n",
    "\n",
    "def html_blank_lengh(soup):\n",
    "    try:\n",
    "        return float(str(soup.html).count(\" \"))\n",
    "    except:\n",
    "            return 0.0"
   ]
  },
  {
   "cell_type": "code",
   "execution_count": 163,
   "metadata": {},
   "outputs": [],
   "source": [
    "# 데이터 프레임의 html_code 컬럼에서 Feature(특징) 데이터를 추출합니다.\n",
    "\n",
    "html_blank_len = []\n",
    "\n",
    "for index, row in df.iterrows():\n",
    "    soup = BeautifulSoup(row.html_code, 'html.parser')\n",
    "    html_blank_len.append(html_blank_lengh(soup))"
   ]
  },
  {
   "cell_type": "code",
   "execution_count": 164,
   "metadata": {},
   "outputs": [
    {
     "data": {
      "text/html": [
       "<div>\n",
       "<style scoped>\n",
       "    .dataframe tbody tr th:only-of-type {\n",
       "        vertical-align: middle;\n",
       "    }\n",
       "\n",
       "    .dataframe tbody tr th {\n",
       "        vertical-align: top;\n",
       "    }\n",
       "\n",
       "    .dataframe thead th {\n",
       "        text-align: right;\n",
       "    }\n",
       "</style>\n",
       "<table border=\"1\" class=\"dataframe\">\n",
       "  <thead>\n",
       "    <tr style=\"text-align: right;\">\n",
       "      <th></th>\n",
       "      <th>html_code</th>\n",
       "      <th>repu</th>\n",
       "      <th>title_length</th>\n",
       "      <th>script_length</th>\n",
       "      <th>html_blank_lengt</th>\n",
       "    </tr>\n",
       "  </thead>\n",
       "  <tbody>\n",
       "    <tr>\n",
       "      <th>0</th>\n",
       "      <td>&lt;!DOCTYPE html&gt;\\n&lt;!--[if lt IE 7]&gt; &lt;html lang=...</td>\n",
       "      <td>malicious</td>\n",
       "      <td>10.0</td>\n",
       "      <td>405.0</td>\n",
       "      <td>471.0</td>\n",
       "    </tr>\n",
       "    <tr>\n",
       "      <th>1</th>\n",
       "      <td>\\n\\t\\n\\n\\n\\t\\n\\n\\t\\n\\n\\n\\t\\n\\n\\n\\t\\n\\n\\t\\n\\t\\t...</td>\n",
       "      <td>malicious</td>\n",
       "      <td>5.0</td>\n",
       "      <td>579.0</td>\n",
       "      <td>1318.0</td>\n",
       "    </tr>\n",
       "    <tr>\n",
       "      <th>2</th>\n",
       "      <td>&lt;!DOCTYPE html&gt;\\n&lt;html lang=\"en\"&gt;\\n    &lt;head&gt;\\...</td>\n",
       "      <td>malicious</td>\n",
       "      <td>71.0</td>\n",
       "      <td>817.0</td>\n",
       "      <td>2718.0</td>\n",
       "    </tr>\n",
       "    <tr>\n",
       "      <th>3</th>\n",
       "      <td>&lt;!DOCTYPE html&gt;&lt;html lang=\"en\"&gt;&lt;head&gt;&lt;style da...</td>\n",
       "      <td>malicious</td>\n",
       "      <td>0.0</td>\n",
       "      <td>4.0</td>\n",
       "      <td>197.0</td>\n",
       "    </tr>\n",
       "    <tr>\n",
       "      <th>4</th>\n",
       "      <td>&lt;!DOCTYPE html&gt;\\n\\n\\n    \\n    \\n    \\n    \\n ...</td>\n",
       "      <td>malicious</td>\n",
       "      <td>27.0</td>\n",
       "      <td>425.0</td>\n",
       "      <td>2771.0</td>\n",
       "    </tr>\n",
       "  </tbody>\n",
       "</table>\n",
       "</div>"
      ],
      "text/plain": [
       "                                           html_code       repu  title_length  \\\n",
       "0  <!DOCTYPE html>\\n<!--[if lt IE 7]> <html lang=...  malicious          10.0   \n",
       "1  \\n\\t\\n\\n\\n\\t\\n\\n\\t\\n\\n\\n\\t\\n\\n\\n\\t\\n\\n\\t\\n\\t\\t...  malicious           5.0   \n",
       "2  <!DOCTYPE html>\\n<html lang=\"en\">\\n    <head>\\...  malicious          71.0   \n",
       "3  <!DOCTYPE html><html lang=\"en\"><head><style da...  malicious           0.0   \n",
       "4  <!DOCTYPE html>\\n\\n\\n    \\n    \\n    \\n    \\n ...  malicious          27.0   \n",
       "\n",
       "   script_length  html_blank_lengt  \n",
       "0          405.0             471.0  \n",
       "1          579.0            1318.0  \n",
       "2          817.0            2718.0  \n",
       "3            4.0             197.0  \n",
       "4          425.0            2771.0  "
      ]
     },
     "execution_count": 164,
     "metadata": {},
     "output_type": "execute_result"
    }
   ],
   "source": [
    "# 추출한 Feature(특징) 데이터를 확인합니다.\n",
    "df['html_blank_lengt'] = html_blank_len\n",
    "df.head()"
   ]
  },
  {
   "cell_type": "markdown",
   "metadata": {},
   "source": [
    "---"
   ]
  },
  {
   "cell_type": "markdown",
   "metadata": {},
   "source": [
    "## <b>Q4. html 에서 body 길이 계산\n",
    "\n",
    "- BeautifulSoup으로 html소스를 python 객체로 변환\n",
    "- 함수로 구현하기\n",
    "- float으로 return 받기"
   ]
  },
  {
   "cell_type": "markdown",
   "metadata": {},
   "source": [
    "### <span style=\"color:darkred\">[문제4] Beatuifulsoup 라이브러리를 활용 HTML code에서 \\<body> 태그 길이를 계산하는 함수를 완성하고 결과를 확인하세요.<span>"
   ]
  },
  {
   "cell_type": "code",
   "execution_count": 165,
   "metadata": {},
   "outputs": [],
   "source": [
    "# Feature(특징) 데이터를 추출하는 함수를 작성합니다.\n",
    "\n",
    "def body_length(soup):\n",
    "    try:\n",
    "        return float((len(str(soup.body))))\n",
    "    except:\n",
    "            return 0.0    "
   ]
  },
  {
   "cell_type": "code",
   "execution_count": 166,
   "metadata": {},
   "outputs": [],
   "source": [
    "# 데이터 프레임의 html_code 컬럼에서 Feature(특징) 데이터를 추출합니다.\n",
    "body_len = []\n",
    "\n",
    "for index, row in df.iterrows():\n",
    "    soup = BeautifulSoup(row.html_code, 'html.parser')\n",
    "    body_len.append(body_length(soup))"
   ]
  },
  {
   "cell_type": "code",
   "execution_count": 167,
   "metadata": {},
   "outputs": [
    {
     "data": {
      "text/html": [
       "<div>\n",
       "<style scoped>\n",
       "    .dataframe tbody tr th:only-of-type {\n",
       "        vertical-align: middle;\n",
       "    }\n",
       "\n",
       "    .dataframe tbody tr th {\n",
       "        vertical-align: top;\n",
       "    }\n",
       "\n",
       "    .dataframe thead th {\n",
       "        text-align: right;\n",
       "    }\n",
       "</style>\n",
       "<table border=\"1\" class=\"dataframe\">\n",
       "  <thead>\n",
       "    <tr style=\"text-align: right;\">\n",
       "      <th></th>\n",
       "      <th>html_code</th>\n",
       "      <th>repu</th>\n",
       "      <th>title_length</th>\n",
       "      <th>script_length</th>\n",
       "      <th>html_blank_lengt</th>\n",
       "      <th>body_length</th>\n",
       "    </tr>\n",
       "  </thead>\n",
       "  <tbody>\n",
       "    <tr>\n",
       "      <th>0</th>\n",
       "      <td>&lt;!DOCTYPE html&gt;\\n&lt;!--[if lt IE 7]&gt; &lt;html lang=...</td>\n",
       "      <td>malicious</td>\n",
       "      <td>10.0</td>\n",
       "      <td>405.0</td>\n",
       "      <td>471.0</td>\n",
       "      <td>3836.0</td>\n",
       "    </tr>\n",
       "    <tr>\n",
       "      <th>1</th>\n",
       "      <td>\\n\\t\\n\\n\\n\\t\\n\\n\\t\\n\\n\\n\\t\\n\\n\\n\\t\\n\\n\\t\\n\\t\\t...</td>\n",
       "      <td>malicious</td>\n",
       "      <td>5.0</td>\n",
       "      <td>579.0</td>\n",
       "      <td>1318.0</td>\n",
       "      <td>15268.0</td>\n",
       "    </tr>\n",
       "    <tr>\n",
       "      <th>2</th>\n",
       "      <td>&lt;!DOCTYPE html&gt;\\n&lt;html lang=\"en\"&gt;\\n    &lt;head&gt;\\...</td>\n",
       "      <td>malicious</td>\n",
       "      <td>71.0</td>\n",
       "      <td>817.0</td>\n",
       "      <td>2718.0</td>\n",
       "      <td>16542.0</td>\n",
       "    </tr>\n",
       "    <tr>\n",
       "      <th>3</th>\n",
       "      <td>&lt;!DOCTYPE html&gt;&lt;html lang=\"en\"&gt;&lt;head&gt;&lt;style da...</td>\n",
       "      <td>malicious</td>\n",
       "      <td>0.0</td>\n",
       "      <td>4.0</td>\n",
       "      <td>197.0</td>\n",
       "      <td>4.0</td>\n",
       "    </tr>\n",
       "    <tr>\n",
       "      <th>4</th>\n",
       "      <td>&lt;!DOCTYPE html&gt;\\n\\n\\n    \\n    \\n    \\n    \\n ...</td>\n",
       "      <td>malicious</td>\n",
       "      <td>27.0</td>\n",
       "      <td>425.0</td>\n",
       "      <td>2771.0</td>\n",
       "      <td>20314.0</td>\n",
       "    </tr>\n",
       "  </tbody>\n",
       "</table>\n",
       "</div>"
      ],
      "text/plain": [
       "                                           html_code       repu  title_length  \\\n",
       "0  <!DOCTYPE html>\\n<!--[if lt IE 7]> <html lang=...  malicious          10.0   \n",
       "1  \\n\\t\\n\\n\\n\\t\\n\\n\\t\\n\\n\\n\\t\\n\\n\\n\\t\\n\\n\\t\\n\\t\\t...  malicious           5.0   \n",
       "2  <!DOCTYPE html>\\n<html lang=\"en\">\\n    <head>\\...  malicious          71.0   \n",
       "3  <!DOCTYPE html><html lang=\"en\"><head><style da...  malicious           0.0   \n",
       "4  <!DOCTYPE html>\\n\\n\\n    \\n    \\n    \\n    \\n ...  malicious          27.0   \n",
       "\n",
       "   script_length  html_blank_lengt  body_length  \n",
       "0          405.0             471.0       3836.0  \n",
       "1          579.0            1318.0      15268.0  \n",
       "2          817.0            2718.0      16542.0  \n",
       "3            4.0             197.0          4.0  \n",
       "4          425.0            2771.0      20314.0  "
      ]
     },
     "execution_count": 167,
     "metadata": {},
     "output_type": "execute_result"
    }
   ],
   "source": [
    "# 추출한 Feature(특징) 데이터를 확인합니다.\n",
    "df['body_length'] = body_len\n",
    "df.head()"
   ]
  },
  {
   "cell_type": "markdown",
   "metadata": {},
   "source": [
    "---"
   ]
  },
  {
   "cell_type": "markdown",
   "metadata": {},
   "source": [
    "## <b>Q5. script 에서 src, href 속성을 가진 태그수\n",
    "\n",
    "- BeautifulSoup으로 html소스를 python 객체로 변환\n",
    "- 함수로 구현하기\n",
    "- float으로 return 받기"
   ]
  },
  {
   "cell_type": "markdown",
   "metadata": {},
   "source": [
    "### <span style=\"color:darkred\">[문제5] Beatuifulsoup 라이브러리를 활용 HTML code에서 \\<script> 태그에서 src, href 속성을 가진 태그수를 계산하는 함수를 완성하고 결과를 확인하세요. <span>\n"
   ]
  },
  {
   "cell_type": "code",
   "execution_count": 168,
   "metadata": {},
   "outputs": [],
   "source": [
    "# Feature(특징) 데이터를 추출하는 함수를 작성합니다.\n",
    "def script_inner_count_src_href(soup):\n",
    "    try:\n",
    "        count = 0\n",
    "        script_elements = soup.find_all('script')\n",
    "        for el in script_elements:\n",
    "            if el.get('href') != None:\n",
    "                count += 1\n",
    "            if el.get('src') != None:\n",
    "                count += 1\n",
    "        return float(count)\n",
    "    except:\n",
    "            return 0.0    \n",
    "        \n",
    "# def link_in_script(soup):\n",
    "#     Linkcount = len(soup.findAll('script', {\"src\" : True}))\n",
    "#     Linkcount += len(soup.findAll('script', {\"href\" : True}))\n",
    "#     return float(Linkcount)"
   ]
  },
  {
   "cell_type": "code",
   "execution_count": 169,
   "metadata": {},
   "outputs": [],
   "source": [
    "# 데이터 프레임의 html_code 컬럼에서 Feature(특징) 데이터를 추출합니다\n",
    "script_inner_src_href_count_len = []\n",
    "\n",
    "for index, row in df.iterrows():\n",
    "    soup = BeautifulSoup(row.html_code, 'html.parser')\n",
    "    script_inner_src_href_count_len.append(script_inner_count_src_href(soup))"
   ]
  },
  {
   "cell_type": "code",
   "execution_count": 170,
   "metadata": {},
   "outputs": [
    {
     "data": {
      "text/html": [
       "<div>\n",
       "<style scoped>\n",
       "    .dataframe tbody tr th:only-of-type {\n",
       "        vertical-align: middle;\n",
       "    }\n",
       "\n",
       "    .dataframe tbody tr th {\n",
       "        vertical-align: top;\n",
       "    }\n",
       "\n",
       "    .dataframe thead th {\n",
       "        text-align: right;\n",
       "    }\n",
       "</style>\n",
       "<table border=\"1\" class=\"dataframe\">\n",
       "  <thead>\n",
       "    <tr style=\"text-align: right;\">\n",
       "      <th></th>\n",
       "      <th>html_code</th>\n",
       "      <th>repu</th>\n",
       "      <th>title_length</th>\n",
       "      <th>script_length</th>\n",
       "      <th>html_blank_lengt</th>\n",
       "      <th>body_length</th>\n",
       "      <th>script_inner_src_href_count_lengt</th>\n",
       "    </tr>\n",
       "  </thead>\n",
       "  <tbody>\n",
       "    <tr>\n",
       "      <th>0</th>\n",
       "      <td>&lt;!DOCTYPE html&gt;\\n&lt;!--[if lt IE 7]&gt; &lt;html lang=...</td>\n",
       "      <td>malicious</td>\n",
       "      <td>10.0</td>\n",
       "      <td>405.0</td>\n",
       "      <td>471.0</td>\n",
       "      <td>3836.0</td>\n",
       "      <td>0.0</td>\n",
       "    </tr>\n",
       "    <tr>\n",
       "      <th>1</th>\n",
       "      <td>\\n\\t\\n\\n\\n\\t\\n\\n\\t\\n\\n\\n\\t\\n\\n\\n\\t\\n\\n\\t\\n\\t\\t...</td>\n",
       "      <td>malicious</td>\n",
       "      <td>5.0</td>\n",
       "      <td>579.0</td>\n",
       "      <td>1318.0</td>\n",
       "      <td>15268.0</td>\n",
       "      <td>4.0</td>\n",
       "    </tr>\n",
       "    <tr>\n",
       "      <th>2</th>\n",
       "      <td>&lt;!DOCTYPE html&gt;\\n&lt;html lang=\"en\"&gt;\\n    &lt;head&gt;\\...</td>\n",
       "      <td>malicious</td>\n",
       "      <td>71.0</td>\n",
       "      <td>817.0</td>\n",
       "      <td>2718.0</td>\n",
       "      <td>16542.0</td>\n",
       "      <td>8.0</td>\n",
       "    </tr>\n",
       "    <tr>\n",
       "      <th>3</th>\n",
       "      <td>&lt;!DOCTYPE html&gt;&lt;html lang=\"en\"&gt;&lt;head&gt;&lt;style da...</td>\n",
       "      <td>malicious</td>\n",
       "      <td>0.0</td>\n",
       "      <td>4.0</td>\n",
       "      <td>197.0</td>\n",
       "      <td>4.0</td>\n",
       "      <td>0.0</td>\n",
       "    </tr>\n",
       "    <tr>\n",
       "      <th>4</th>\n",
       "      <td>&lt;!DOCTYPE html&gt;\\n\\n\\n    \\n    \\n    \\n    \\n ...</td>\n",
       "      <td>malicious</td>\n",
       "      <td>27.0</td>\n",
       "      <td>425.0</td>\n",
       "      <td>2771.0</td>\n",
       "      <td>20314.0</td>\n",
       "      <td>0.0</td>\n",
       "    </tr>\n",
       "  </tbody>\n",
       "</table>\n",
       "</div>"
      ],
      "text/plain": [
       "                                           html_code       repu  title_length  \\\n",
       "0  <!DOCTYPE html>\\n<!--[if lt IE 7]> <html lang=...  malicious          10.0   \n",
       "1  \\n\\t\\n\\n\\n\\t\\n\\n\\t\\n\\n\\n\\t\\n\\n\\n\\t\\n\\n\\t\\n\\t\\t...  malicious           5.0   \n",
       "2  <!DOCTYPE html>\\n<html lang=\"en\">\\n    <head>\\...  malicious          71.0   \n",
       "3  <!DOCTYPE html><html lang=\"en\"><head><style da...  malicious           0.0   \n",
       "4  <!DOCTYPE html>\\n\\n\\n    \\n    \\n    \\n    \\n ...  malicious          27.0   \n",
       "\n",
       "   script_length  html_blank_lengt  body_length  \\\n",
       "0          405.0             471.0       3836.0   \n",
       "1          579.0            1318.0      15268.0   \n",
       "2          817.0            2718.0      16542.0   \n",
       "3            4.0             197.0          4.0   \n",
       "4          425.0            2771.0      20314.0   \n",
       "\n",
       "   script_inner_src_href_count_lengt  \n",
       "0                                0.0  \n",
       "1                                4.0  \n",
       "2                                8.0  \n",
       "3                                0.0  \n",
       "4                                0.0  "
      ]
     },
     "execution_count": 170,
     "metadata": {},
     "output_type": "execute_result"
    }
   ],
   "source": [
    "# 추출한 Feature(특징) 데이터를 확인합니다.\n",
    "df['script_inner_src_href_count_lengt'] = script_inner_src_href_count_len\n",
    "df.head()"
   ]
  },
  {
   "cell_type": "markdown",
   "metadata": {},
   "source": [
    "## <b>Q6. 추가적으로 도출 가능한 Feature\n",
    "\n",
    "- BeautifulSoup으로 html소스를 python 객체로 변환\n",
    "- 함수로 구현하기\n",
    "- 적절한 자료형으로 return 받기"
   ]
  },
  {
   "cell_type": "markdown",
   "metadata": {},
   "source": [
    "### <span style=\"color:darkred\">[문제6] Beatuifulsoup 라이브러리를 활용 HTML code에서 추가로 만들수 있는 Feature를 찾아보고 결과를 확인하세요. <span>\n"
   ]
  },
  {
   "cell_type": "code",
   "execution_count": 171,
   "metadata": {},
   "outputs": [],
   "source": [
    "# Feature(특징) 데이터를 추출하는 함수를 작성합니다.\n"
   ]
  },
  {
   "cell_type": "code",
   "execution_count": 172,
   "metadata": {},
   "outputs": [],
   "source": [
    "# 데이터 프레임의 html_code 컬럼에서 Feature(특징) 데이터를 추출합니다\n"
   ]
  },
  {
   "cell_type": "code",
   "execution_count": 173,
   "metadata": {},
   "outputs": [],
   "source": [
    "# 추출한 Feature(특징) 데이터를 확인합니다.\n",
    "\n"
   ]
  }
 ],
 "metadata": {
  "kernelspec": {
   "display_name": "Python 3",
   "language": "python",
   "name": "python3"
  },
  "language_info": {
   "codemirror_mode": {
    "name": "ipython",
    "version": 3
   },
   "file_extension": ".py",
   "mimetype": "text/x-python",
   "name": "python",
   "nbconvert_exporter": "python",
   "pygments_lexer": "ipython3",
   "version": "3.8.8"
  },
  "vscode": {
   "interpreter": {
    "hash": "f08154012ddadd8e950e6e9e035c7a7b32c136e7647e9b7c77e02eb723a8bedb"
   }
  }
 },
 "nbformat": 4,
 "nbformat_minor": 4
}
